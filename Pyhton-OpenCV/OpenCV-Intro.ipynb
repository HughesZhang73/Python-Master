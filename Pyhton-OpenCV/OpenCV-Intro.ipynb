{
 "cells": [
  {
   "cell_type": "code",
   "execution_count": 2,
   "metadata": {
    "collapsed": true,
    "pycharm": {
     "is_executing": false
    }
   },
   "outputs": [
    {
     "name": "stdout",
     "text": [
      "b'hello tf'\n"
     ],
     "output_type": "stream"
    }
   ],
   "source": [
    "# 首先导入tensorflow\n",
    "import tensorflow as tf\n",
    "hello = tf.constant(\"hello tf\")\n",
    "sess = tf.Session()\n",
    "print(sess.run(hello))\n",
    "\n",
    "# 常量\n",
    "\n"
   ]
  },
  {
   "cell_type": "code",
   "execution_count": 4,
   "outputs": [
    {
     "name": "stdout",
     "text": [
      "hello world\n"
     ],
     "output_type": "stream"
    }
   ],
   "source": [
    "# 测试CV模块是否成功导入\n",
    "import cv2\n",
    "print(\"hello world\")\n",
    "\n"
   ],
   "metadata": {
    "collapsed": false,
    "pycharm": {
     "name": "#%%\n",
     "is_executing": false
    }
   }
  },
  {
   "cell_type": "code",
   "execution_count": 6,
   "outputs": [
    {
     "data": {
      "text/plain": "-1"
     },
     "metadata": {},
     "output_type": "execute_result",
     "execution_count": 6
    }
   ],
   "source": [
    "# 图片的读取和展示展示\n",
    "# 1. 数据的读取 2. 封装的格式解析 3，数据解码 4，数据加载\n",
    "import cv2\n",
    "img = cv2.imread('img-01-test.png', 1) # read image 0 为灰度图片，1 为彩色图片\n",
    "cv2.imshow('image', img)\n",
    "# jpg png 1. 文件头，2. 文件数据\n",
    "cv2.waitKey()"
   ],
   "metadata": {
    "collapsed": false,
    "pycharm": {
     "name": "#%%\n",
     "is_executing": false
    }
   }
  },
  {
   "cell_type": "code",
   "execution_count": 13,
   "outputs": [
    {
     "data": {
      "text/plain": "True"
     },
     "metadata": {},
     "output_type": "execute_result",
     "execution_count": 13
    }
   ],
   "source": [
    "import cv2\n",
    "img = cv2.imread('img-01-test.png', 1)\n",
    "cv2.imwrite('image1.jpg', img) # 1. name 2. oringnal data\n"
   ],
   "metadata": {
    "collapsed": false,
    "pycharm": {
     "name": "#%%\n",
     "is_executing": false
    }
   }
  },
  {
   "cell_type": "code",
   "execution_count": 1,
   "outputs": [],
   "source": [
    "# 图片的基础知识\n",
    "# 1. 首先图片都是由一个个像素点组成的\n",
    "# 2. 图片的颜色由RGB ，分别对应着Red Green Blue\n",
    "# 3. 一般的颜色深度是8 bit， 其值在0 - 255 的范围之间\n",
    "# 4. 高度h和宽度W， 例如 640 * 720\n",
    "# 5. 图片的大小，假设一个图片的大小为2.00 M ，图片的计算过程为 h * W * 3 * 8bit / 8 （B）\n",
    "# 6. RGB alpha 一般是指png格式的图片的透明度分量\n",
    "# 7. RGB b g r\n",
    "# 8. b g r 单独的颜色分量\n",
    "\n"
   ],
   "metadata": {
    "collapsed": false,
    "pycharm": {
     "name": "#%%\n",
     "is_executing": false
    }
   }
  },
  {
   "cell_type": "code",
   "execution_count": 5,
   "outputs": [
    {
     "name": "stdout",
     "text": [
      "16 18 20\n"
     ],
     "output_type": "stream"
    },
    {
     "data": {
      "text/plain": "-1"
     },
     "metadata": {},
     "output_type": "execute_result",
     "execution_count": 5
    }
   ],
   "source": [
    "# 图片的像素读取和写入\n",
    "import cv2\n",
    "img = cv2.imread('img-01-test.png', 1)\n",
    "b, g, r = img[100, 100]\n",
    "print(b, g , r)\n",
    "for i in range(1, 100):\n",
    "    img[10 + i, 100] = [255, 0, 0]\n",
    "cv2.imshow('image1', img)\n",
    "cv2.waitKey(0)\n",
    "\n"
   ],
   "metadata": {
    "collapsed": false,
    "pycharm": {
     "name": "#%%\n",
     "is_executing": false
    }
   }
  },
  {
   "cell_type": "code",
   "execution_count": null,
   "outputs": [],
   "source": [
    "\n"
   ],
   "metadata": {
    "collapsed": false,
    "pycharm": {
     "name": "#%%\n"
    }
   }
  }
 ],
 "metadata": {
  "kernelspec": {
   "display_name": "Python 3",
   "language": "python",
   "name": "python3"
  },
  "language_info": {
   "codemirror_mode": {
    "name": "ipython",
    "version": 2
   },
   "file_extension": ".py",
   "mimetype": "text/x-python",
   "name": "python",
   "nbconvert_exporter": "python",
   "pygments_lexer": "ipython2",
   "version": "2.7.6"
  },
  "pycharm": {
   "stem_cell": {
    "cell_type": "raw",
    "source": [],
    "metadata": {
     "collapsed": false
    }
   }
  }
 },
 "nbformat": 4,
 "nbformat_minor": 0
}