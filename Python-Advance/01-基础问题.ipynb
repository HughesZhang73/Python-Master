{
 "cells": [
  {
   "cell_type": "code",
   "execution_count": 2,
   "metadata": {
    "collapsed": true,
    "pycharm": {
     "is_executing": false
    }
   },
   "outputs": [
    {
     "name": "stdout",
     "text": [
      "2\n"
     ],
     "output_type": "stream"
    }
   ],
   "source": [
    "# 三元运算符\n",
    "\n",
    "a, b = 2, 3\n",
    "\n",
    "min = a if a < b else b\n",
    "\n",
    "print(min)\n",
    "\n"
   ]
  },
  {
   "cell_type": "code",
   "execution_count": 3,
   "outputs": [],
   "source": [
    "#  GIL 全局解释器锁，是计算机程序用来进行进程同步的一种机制，它使得任何时刻只有一个线程在执行，即便是多核心处理器上，也只允许同一时间执行一个线程\n",
    "#\n",
    "\n"
   ],
   "metadata": {
    "collapsed": false,
    "pycharm": {
     "name": "#%%\n",
     "is_executing": false
    }
   }
  },
  {
   "cell_type": "code",
   "execution_count": 4,
   "outputs": [],
   "source": [
    "# 解释一下类的继承：\n",
    "#     当一个类继承自另外一个类的时候，它本身就被成为是派生类或者之类，所继承的类称为父类或者基类或者是超类。子类继承或者获取超类的成员（属性或者方法）\n",
    "#\n",
    "#     继承可以让我们重新使用代码，达到代码复用的目的，以便更容易创建和维护应用。\n",
    "#\n",
    "#     python支持的类的继承有以下:\n",
    "#         单继承\n",
    "#         多继承\n",
    "#\n",
    "#         多级继承：\n",
    "#         分层继承：\n",
    "#         混合继承\n",
    "\n",
    "\n"
   ],
   "metadata": {
    "collapsed": false,
    "pycharm": {
     "name": "#%%\n",
     "is_executing": false
    }
   }
  },
  {
   "cell_type": "code",
   "execution_count": 5,
   "outputs": [],
   "source": [
    "# help() 和 dir()的区别\n",
    "\n",
    "#   help() 是一个内置函数，用于查看函数或者模块的具体用途（类中的注释）\n",
    "#\n",
    "#   dir()也是内置函数，用来查看属性、方法列表，不指定参数的时候，返回当前范围的变量、方法、和定义的类型列表\n",
    "\n"
   ],
   "metadata": {
    "collapsed": false,
    "pycharm": {
     "name": "#%%\n",
     "is_executing": false
    }
   }
  },
  {
   "cell_type": "code",
   "execution_count": 6,
   "outputs": [
    {
     "name": "stdout",
     "text": [
      "Hi, monkey\n"
     ],
     "output_type": "stream"
    }
   ],
   "source": [
    "# 什么是猴子补丁：\n",
    "#       在运行期间动态修改一个类或模块\n",
    "\n",
    "class A:\n",
    "    def func(self):\n",
    "        print(\"Hi\")\n",
    "\n",
    "\n",
    "def monkey(self):\n",
    "    print(\"Hi, monkey\")\n",
    "\n",
    "\n",
    "A.func = monkey\n",
    "a = A()\n",
    "a.func()\n",
    "\n"
   ],
   "metadata": {
    "collapsed": false,
    "pycharm": {
     "name": "#%%\n",
     "is_executing": false
    }
   }
  },
  {
   "cell_type": "code",
   "execution_count": 10,
   "outputs": [
    {
     "name": "stdout",
     "text": [
      "3\n",
      "2\n",
      "1\n",
      "4\n",
      "7\n",
      "3\n",
      "2\n",
      "1\n",
      "4\n",
      "7\n",
      "True\n"
     ],
     "output_type": "stream"
    }
   ],
   "source": [
    "# 请解释使用*args和**kwargs的含义\n",
    "\n",
    "# 这两个都是python中的可变参数，*args表示任何多个无名参数，\n",
    "# 它是一个tuple；**kwargs表示关键字参数，它是一个dict。\n",
    "# 并且同时使用*args和**kwargs时，必须*args参数列要在**kwargs前，\n",
    "\n",
    "\"\"\"\n",
    "当我们不知道传递多少参数的时候，就可以使用args，例如传入方法的是一个元组或者列表\n",
    "\"\"\"\n",
    "def func(*args):\n",
    "    for i in args:\n",
    "        print(i)  \n",
    "func(3,2,1,4,7)\n",
    "\n",
    "\n",
    "\n",
    "\"\"\"\n",
    "当不知道向函数中传入多少关键字时候，就使用**kwargs\n",
    "\n",
    "\"\"\"\n",
    "def func(*args):\n",
    "    for i in args:\n",
    "        print(i)  \n",
    "func(3,2,1,4,7)\n",
    "\n",
    "# 其中**kwargs 还可以用来创建字典：\n",
    "def kw_dict(**kwargs):\n",
    "    return kwargs\n",
    "\n",
    "print(kw_dict(a=1,b=2,c=3) == {'a':1, 'b':2, 'c':3})"
   ],
   "metadata": {
    "collapsed": false,
    "pycharm": {
     "name": "#%%\n",
     "is_executing": false
    }
   }
  },
  {
   "cell_type": "code",
   "execution_count": 18,
   "outputs": [
    {
     "name": "stdout",
     "text": [
      "7\n",
      "3\n",
      "[3, 4, 5, 6, 7]\n",
      "[3, 4, 5, 6]\n",
      "[3, 4, 5, 6, 7, 8]\n"
     ],
     "output_type": "stream"
    }
   ],
   "source": [
    "# 什么是负索引\n",
    "# 负索引和正索引不同，它是从右边开始检索。\n",
    "# 因为切片操作都是左闭右开的, 负索引也同样适用\n",
    "mylist=[0,1,2,3,4,5,6,7,8]\n",
    "print(mylist[-2]) # 下标从 1 开始\n",
    "print(mylist[3])  # 下标从 0 开始\n",
    "print(mylist[-6:-1])\n",
    "print(mylist[-6:-2])\n",
    "print(mylist[-6:])"
   ],
   "metadata": {
    "collapsed": false,
    "pycharm": {
     "name": "#%%\n",
     "is_executing": false
    }
   }
  },
  {
   "cell_type": "code",
   "execution_count": 25,
   "outputs": [
    {
     "name": "stdout",
     "text": [
      "my name is bob\n",
      "my_name_is_bob\n",
      "mynameisbob\n",
      "['my', 'name', 'is', 'bob']\n",
      "['my..name..is..bob']\n",
      "['my', 'name..is..bob']\n",
      "['my', 'name', 'is..bob']\n",
      "['my', 'name', 'is', 'bob']\n"
     ],
     "output_type": "stream"
    }
   ],
   "source": [
    "# 解释Python中的join()和split()函数\n",
    "\n",
    "# Join()能让我们将指定字符添加至字符串中。\n",
    "\n",
    "# 只针对字符串进行处理。split:拆分字符串、join连接字符串\n",
    "\n",
    "# string.join(sep):以string作为分割符，\n",
    "\n",
    "# 将sep中所有的元素(字符串表示)合并成一个新的字符串\n",
    "\n",
    "# string.split(str=’ ',num=string.count(str)):以str为分隔，\n",
    "\n",
    "# 符切片string，如果num有指定值，则仅分隔num个子字符串\n",
    "\n",
    "\n",
    "\n",
    "li = ['my','name','is','bob'] \n",
    "print(' '.join(li))\n",
    "\n",
    "print('_'.join(li))\n",
    "\n",
    "print(''.join(li))\n",
    "\n",
    "\n",
    "# Split()能让我们用指定字符分割字符串。\n",
    "b = 'my..name..is..bob' \n",
    "print(b.split(\"..\"))\n",
    "\n",
    "print(b.split(\"..\",0))\n",
    " \n",
    "print(b.split(\"..\",1)) \n",
    "\n",
    " \n",
    "print(b.split(\"..\",2)) \n",
    "\n",
    " \n",
    "print(b.split(\"..\",-1))\n",
    "\n",
    " \n",
    "# 可以看出 b.split(\"..\",-1)等价于b.split(\"..\") \n",
    "\n"
   ],
   "metadata": {
    "collapsed": false,
    "pycharm": {
     "name": "#%%\n",
     "is_executing": false
    }
   }
  },
  {
   "cell_type": "code",
   "execution_count": 48,
   "outputs": [
    {
     "name": "stdout",
     "text": [
      "helloworld  hello\n",
      "  helloworld  hello\n",
      "['helloworld', 'hello']\n",
      "helloworldhello\n",
      "helloworldhello\n",
      "  helloworld  hello   \n"
     ],
     "output_type": "stream"
    }
   ],
   "source": [
    "# 怎么移除一个字符串中的前导空格？\n",
    "\n",
    "print(\"  helloworld  hello\".lstrip())\n",
    "print(\"  helloworld  hello   \".rstrip())\n",
    "print(\"  helloworld  hello   \".split())\n",
    "\n",
    "# 以上中间的空格并没有去掉，使用以下方法去除中间空格：\n",
    "\n",
    "# 使用replace\n",
    "print(\"  helloworld  hello   \".replace(' ', ''))\n",
    "\n",
    "# 使用split\n",
    "\n",
    "print(''.join(\"  helloworld  hello   \".split()))\n",
    "\n",
    "# 使用正则表达式???\n",
    "import re\n",
    "pattern = re.compile('/A/s+/')\n",
    "print(re.sub(pattern, '', \"  helloworld  hello   \"))\n",
    "\n"
   ],
   "metadata": {
    "collapsed": false,
    "pycharm": {
     "name": "#%%\n",
     "is_executing": false
    }
   }
  },
  {
   "cell_type": "code",
   "execution_count": 49,
   "outputs": [],
   "source": [
    "# Python中的pass语句是什么？\n",
    "# 再用 python 写代码得时候，有时候一个函数的思路待设计和优化得时候，就是用pass\n",
    "\n"
   ],
   "metadata": {
    "collapsed": false,
    "pycharm": {
     "name": "#%%\n",
     "is_executing": false
    }
   }
  },
  {
   "cell_type": "code",
   "execution_count": 63,
   "outputs": [
    {
     "name": "stdout",
     "text": [
      "function: <function start.<locals>.add at 0x0000018FC3337400>\n",
      "result: 2\n"
     ],
     "output_type": "stream"
    }
   ],
   "source": [
    "# Python中的闭包是什么？\n",
    "#       1.内部函数对外部函数作用域里变量的引用（非全局变量），则称内部函数为闭包。\n",
    "\n",
    "def start(x):\n",
    "    def add(y):\n",
    "        return x + y\n",
    "    return add\n",
    "\n",
    "a = start(1)\n",
    "print('function:', a)\n",
    "print('result:', a(1))\n"
   ],
   "metadata": {
    "collapsed": false,
    "pycharm": {
     "name": "#%%\n",
     "is_executing": false
    }
   }
  },
  {
   "cell_type": "code",
   "execution_count": 56,
   "outputs": [
    {
     "name": "stdout",
     "text": [
      "out x before call inner: 0\n",
      "inner x: 1\n",
      "out x after call inner: 0\n"
     ],
     "output_type": "stream"
    }
   ],
   "source": [
    "#   2. 闭包无法修改外部函数的局部变量的\n",
    "def outFunc():\n",
    "    x = 0\n",
    "    def inFunc():\n",
    "        x = 1\n",
    "        print(\"inner x:\", x)\n",
    "        \n",
    "    print('out x before call inner:', x)\n",
    "    \n",
    "    inFunc()\n",
    "    \n",
    "    print('out x after call inner:', x)\n",
    "    \n",
    "outFunc()\n"
   ],
   "metadata": {
    "collapsed": false,
    "pycharm": {
     "name": "#%%\n",
     "is_executing": false
    }
   }
  },
  {
   "cell_type": "code",
   "execution_count": 64,
   "outputs": [
    {
     "traceback": [
      "\u001b[1;31m---------------------------------------------------------------------------\u001b[0m",
      "\u001b[1;31mTypeError\u001b[0m                                 Traceback (most recent call last)",
      "\u001b[1;32m<ipython-input-64-46cd74ebb7a3>\u001b[0m in \u001b[0;36m<module>\u001b[1;34m\u001b[0m\n\u001b[0;32m      9\u001b[0m \u001b[1;33m\u001b[0m\u001b[0m\n\u001b[0;32m     10\u001b[0m \u001b[1;32mfor\u001b[0m \u001b[0mi\u001b[0m \u001b[1;32min\u001b[0m \u001b[0mf\u001b[0m\u001b[1;33m:\u001b[0m\u001b[1;33m\u001b[0m\u001b[1;33m\u001b[0m\u001b[0m\n\u001b[1;32m---> 11\u001b[1;33m     \u001b[0mprint\u001b[0m\u001b[1;33m(\u001b[0m\u001b[0mf\u001b[0m\u001b[1;33m(\u001b[0m\u001b[1;36m2\u001b[0m\u001b[1;33m)\u001b[0m\u001b[1;33m)\u001b[0m\u001b[1;33m\u001b[0m\u001b[1;33m\u001b[0m\u001b[0m\n\u001b[0m\u001b[0;32m     12\u001b[0m \u001b[1;33m\u001b[0m\u001b[0m\n",
      "\u001b[1;31mTypeError\u001b[0m: 'list' object is not callable"
     ],
     "ename": "TypeError",
     "evalue": "'list' object is not callable",
     "output_type": "error"
    }
   ],
   "source": [
    "# 3. python 的循环中没有闭包的概念\n",
    "\n",
    "f = []\n",
    "\n",
    "for i in range(3):\n",
    "    def func(x):\n",
    "        return x * i\n",
    "    f.append(func)\n",
    "\n",
    "for i in f:\n",
    "    print(f(2))\n"
   ],
   "metadata": {
    "collapsed": false,
    "pycharm": {
     "name": "#%%\n",
     "is_executing": false
    }
   }
  },
  {
   "cell_type": "code",
   "execution_count": 65,
   "outputs": [
    {
     "data": {
      "text/plain": "'\\npython 的装饰器本质上是一个python函数，它可以让其他函数在不进行任何的变动下增加额外的功能，装饰器的返回值也是一个函数对象\\n装饰器经常用于有切面需求的场景。比如：插入日志、性能测试、事务处理、缓存、权限校验等。有了装饰器我们就可以抽离出大量的与函数功能无关的雷同代码进行重用。\\n装饰器其实就是一个闭包，把一个函数当做参数然后返回一个替代版函数。\\n\\n\\n装饰器：\\n    1.用于拓展原来函数的功能的一种函数\\n    2.返回函数的函数\\n    3.在不使用原来函数的代码的前提下给函数增加新功能\\n    \\n    \\n\\n\\n'"
     },
     "metadata": {},
     "output_type": "execute_result",
     "execution_count": 65
    }
   ],
   "source": [
    "# 谈一谈Python的装饰器（decorator）\n",
    "\"\"\"\n",
    "python 的装饰器本质上是一个python函数，它可以让其他函数在不进行任何的变动下增加额外的功能，装饰器的返回值也是一个函数对象\n",
    "装饰器经常用于有切面需求的场景。比如：插入日志、性能测试、事务处理、缓存、权限校验等。有了装饰器我们就可以抽离出大量的与函数功能无关的雷同代码进行重用。\n",
    "装饰器其实就是一个闭包，把一个函数当做参数然后返回一个替代版函数。\n",
    "\n",
    "\n",
    "装饰器：\n",
    "    1.用于拓展原来函数的功能的一种函数\n",
    "    2.返回函数的函数\n",
    "    3.在不使用原来函数的代码的前提下给函数增加新功能\n",
    "    \n",
    "\n",
    "\"\"\""
   ],
   "metadata": {
    "collapsed": false,
    "pycharm": {
     "name": "#%%\n",
     "is_executing": false
    }
   }
  },
  {
   "cell_type": "code",
   "execution_count": 100,
   "outputs": [
    {
     "name": "stdout",
     "text": [
      "1\n",
      "4\n",
      "9\n",
      "16\n",
      "25\n",
      "36\n",
      "49\n",
      "64\n",
      "81\n",
      "100\n"
     ],
     "output_type": "stream"
    },
    {
     "traceback": [
      "\u001b[1;31m---------------------------------------------------------------------------\u001b[0m",
      "\u001b[1;31mStopIteration\u001b[0m                             Traceback (most recent call last)",
      "\u001b[1;32m<ipython-input-100-5bfa7ac7bee7>\u001b[0m in \u001b[0;36m<module>\u001b[1;34m\u001b[0m\n\u001b[0;32m     29\u001b[0m     \u001b[1;31m# print(next(p))\u001b[0m\u001b[1;33m\u001b[0m\u001b[1;33m\u001b[0m\u001b[1;33m\u001b[0m\u001b[0m\n\u001b[0;32m     30\u001b[0m     \u001b[1;32mfor\u001b[0m \u001b[0mi\u001b[0m \u001b[1;32min\u001b[0m \u001b[0mrange\u001b[0m\u001b[1;33m(\u001b[0m\u001b[1;36m11\u001b[0m\u001b[1;33m)\u001b[0m\u001b[1;33m:\u001b[0m\u001b[1;33m\u001b[0m\u001b[1;33m\u001b[0m\u001b[0m\n\u001b[1;32m---> 31\u001b[1;33m         \u001b[0mprint\u001b[0m\u001b[1;33m(\u001b[0m\u001b[0mnext\u001b[0m\u001b[1;33m(\u001b[0m\u001b[0mp\u001b[0m\u001b[1;33m)\u001b[0m\u001b[1;33m)\u001b[0m\u001b[1;33m\u001b[0m\u001b[1;33m\u001b[0m\u001b[0m\n\u001b[0m",
      "\u001b[1;32m<ipython-input-100-5bfa7ac7bee7>\u001b[0m in \u001b[0;36m__next__\u001b[1;34m(self)\u001b[0m\n\u001b[0;32m     15\u001b[0m         \u001b[0mself\u001b[0m\u001b[1;33m.\u001b[0m\u001b[0mvalue\u001b[0m \u001b[1;33m+=\u001b[0m \u001b[1;36m1\u001b[0m\u001b[1;33m\u001b[0m\u001b[1;33m\u001b[0m\u001b[0m\n\u001b[0;32m     16\u001b[0m         \u001b[1;32mif\u001b[0m \u001b[0mself\u001b[0m\u001b[1;33m.\u001b[0m\u001b[0mvalue\u001b[0m \u001b[1;33m>\u001b[0m \u001b[1;36m10\u001b[0m\u001b[1;33m:\u001b[0m\u001b[1;33m\u001b[0m\u001b[1;33m\u001b[0m\u001b[0m\n\u001b[1;32m---> 17\u001b[1;33m             \u001b[1;32mraise\u001b[0m \u001b[0mStopIteration\u001b[0m\u001b[1;33m\u001b[0m\u001b[1;33m\u001b[0m\u001b[0m\n\u001b[0m\u001b[0;32m     18\u001b[0m         \u001b[1;32melse\u001b[0m\u001b[1;33m:\u001b[0m\u001b[1;33m\u001b[0m\u001b[1;33m\u001b[0m\u001b[0m\n\u001b[0;32m     19\u001b[0m             \u001b[1;32mreturn\u001b[0m \u001b[0mself\u001b[0m\u001b[1;33m.\u001b[0m\u001b[0mvalue\u001b[0m \u001b[1;33m*\u001b[0m \u001b[0mself\u001b[0m\u001b[1;33m.\u001b[0m\u001b[0mvalue\u001b[0m\u001b[1;33m\u001b[0m\u001b[1;33m\u001b[0m\u001b[0m\n",
      "\u001b[1;31mStopIteration\u001b[0m: "
     ],
     "ename": "StopIteration",
     "evalue": "",
     "output_type": "error"
    }
   ],
   "source": [
    "\"\"\"\n",
    "迭代器（iterate）：\n",
    "    1.意味着重复多次，类似于循环一样（list、 tuple）\n",
    "    2.实现了方法 __iter__ 的对象的可迭代的，实现了方法 __next__ 的对象是迭代器\n",
    "    3.调用方法__next__ 时，（或者next()）,迭代器返回的旗下一个值\n",
    "    4.如果迭代器没有可提供的返回值，触发 StopIteration 异常\n",
    "\n",
    "\"\"\"\n",
    "\n",
    "class PowerIter(object):\n",
    "    \n",
    "    value = 0\n",
    "    \n",
    "    def __next__(self):\n",
    "        self.value += 1 \n",
    "        if self.value > 10:\n",
    "            raise StopIteration\n",
    "        else:\n",
    "            return self.value * self.value    \n",
    "    def __iter__(self):\n",
    "        return self\n",
    "    \n",
    "    \n",
    "if __name__ == '__main__':\n",
    "    p = PowerIter()\n",
    "    # print(p.__next__())\n",
    "    # print(p.__next__())\n",
    "    # print(next(p))\n",
    "    # print(next(p))\n",
    "    for i in range(11):\n",
    "        print(next(p))"
   ],
   "metadata": {
    "collapsed": false,
    "pycharm": {
     "name": "#%%\n",
     "is_executing": false
    }
   }
  },
  {
   "cell_type": "code",
   "execution_count": 72,
   "outputs": [],
   "source": [
    "# 解释一下Python中的逻辑运算符\n",
    "# Python中有3个逻辑运算符：and，or，not\n",
    "\n"
   ],
   "metadata": {
    "collapsed": false,
    "pycharm": {
     "name": "#%%\n",
     "is_executing": false
    }
   }
  },
  {
   "cell_type": "code",
   "execution_count": 73,
   "outputs": [],
   "source": [
    "# Python支持什么数据类型？\n",
    "# Numbers（数字）——用于保存数值\n",
    "# \n",
    "# Strings（字符串）——字符串是一个字符序列。我们用单引号或双引号来声明字符串。\n",
    "# \n",
    "# Lists（列表）——列表就是一些值的有序集合，我们用方括号声明列表。\n",
    "# \n",
    "# Tuples（元组）——元组和列表一样，也是一些值的有序集合，区别是元组是不可变的，意味着我们无法改变元组内的值。\n",
    "# \n",
    "# Dictionary（字典）——字典是一种数据结构，含有键值对。我们用大括号声明字典\n",
    "\n"
   ],
   "metadata": {
    "collapsed": false,
    "pycharm": {
     "name": "#%%\n",
     "is_executing": false
    }
   }
  },
  {
   "cell_type": "code",
   "execution_count": 76,
   "outputs": [
    {
     "name": "stdout",
     "text": [
      "(3, 4)\n"
     ],
     "output_type": "stream"
    }
   ],
   "source": [
    "# 什么是切片？\n",
    "# 切片是Python中的一种方法，能让我们只检索列表、元素或字符串的一部分。\n",
    "# 在切片时，我们使用切片操作符[]。\n",
    "\n",
    "\n",
    "print((1,2,3,4,5)[2:4])"
   ],
   "metadata": {
    "collapsed": false,
    "pycharm": {
     "name": "#%%\n",
     "is_executing": false
    }
   }
  },
  {
   "cell_type": "code",
   "execution_count": 87,
   "outputs": [
    {
     "name": "stdout",
     "text": [
      "frozenset({1, 2, 3})\n"
     ],
     "output_type": "stream"
    },
    {
     "traceback": [
      "\u001b[1;31m---------------------------------------------------------------------------\u001b[0m",
      "\u001b[1;31mAttributeError\u001b[0m                            Traceback (most recent call last)",
      "\u001b[1;32m<ipython-input-87-8eb2374f6b4a>\u001b[0m in \u001b[0;36m<module>\u001b[1;34m\u001b[0m\n\u001b[0;32m      9\u001b[0m \u001b[0mprint\u001b[0m\u001b[1;33m(\u001b[0m\u001b[0mmyset\u001b[0m\u001b[1;33m)\u001b[0m\u001b[1;33m\u001b[0m\u001b[1;33m\u001b[0m\u001b[0m\n\u001b[0;32m     10\u001b[0m \u001b[0mmyset1\u001b[0m\u001b[1;33m.\u001b[0m\u001b[0madd\u001b[0m\u001b[1;33m(\u001b[0m\u001b[1;36m5\u001b[0m\u001b[1;33m)\u001b[0m\u001b[1;33m\u001b[0m\u001b[1;33m\u001b[0m\u001b[0m\n\u001b[1;32m---> 11\u001b[1;33m \u001b[0mmyset\u001b[0m\u001b[1;33m.\u001b[0m\u001b[0madd\u001b[0m\u001b[1;33m(\u001b[0m\u001b[1;36m6\u001b[0m\u001b[1;33m)\u001b[0m  \u001b[1;31m# 报错，无法进行修改\u001b[0m\u001b[1;33m\u001b[0m\u001b[1;33m\u001b[0m\u001b[0m\n\u001b[0m\u001b[0;32m     12\u001b[0m \u001b[1;33m\u001b[0m\u001b[0m\n\u001b[0;32m     13\u001b[0m \u001b[0mprint\u001b[0m\u001b[1;33m(\u001b[0m\u001b[0mmyset1\u001b[0m\u001b[1;33m)\u001b[0m\u001b[1;33m\u001b[0m\u001b[1;33m\u001b[0m\u001b[0m\n",
      "\u001b[1;31mAttributeError\u001b[0m: 'frozenset' object has no attribute 'add'"
     ],
     "ename": "AttributeError",
     "evalue": "'frozenset' object has no attribute 'add'",
     "output_type": "error"
    }
   ],
   "source": [
    "# Python中的不可变集合（frozenset）是什么？\n",
    "#         首先，我们讨论一下什么是集合。集合就是一系列数据项的合集，不存在任何副本。另外，集合是无序的。\n",
    "# \n",
    "#         这就意味着我们无法索引它。\n",
    "# \n",
    "#         不过，集合是可变的。而不可变集合却不可变，这意味着我们无法改变它的值，从而也使其无法作为字典的键值。 \n",
    "myset1 = {1, 3, 2, 2}\n",
    "myset = frozenset([1,3,2,2])\n",
    "print(myset)\n",
    "myset1.add(5)\n",
    "myset.add(6)  # 报错，无法进行修改\n",
    "\n",
    "print(myset1)\n",
    "print(myset)"
   ],
   "metadata": {
    "collapsed": false,
    "pycharm": {
     "name": "#%%\n",
     "is_executing": false
    }
   }
  },
  {
   "cell_type": "code",
   "execution_count": 98,
   "outputs": [
    {
     "name": "stdout",
     "text": [
      "[0, 1, 2, 3, 5, 8, 13, 21, 34, 55]\n"
     ],
     "output_type": "stream"
    }
   ],
   "source": [
    "# 解释lambda表达式，什么时候会用到它？\n",
    "# 如果我们需要一个只有单一表达式的函数，我们可以匿名定义它。\n",
    "# lambda表达式通常是在需要一个函数，但是又不想费神去命名一个函数的场合下使用，\n",
    "# 也就是指匿名函数。\n",
    "\n",
    "(lambda a, b: a if a > b else b)(3, 3.5)\n",
    "\n",
    "fib = lambda n: n if n <= 2 else fib(n - 1) + fib(n - 2)\n",
    "ans = []\n",
    "for i in range(10):\n",
    "    ans.append(fib(i))\n",
    "print(ans)"
   ],
   "metadata": {
    "collapsed": false,
    "pycharm": {
     "name": "#%%\n",
     "is_executing": false
    }
   }
  },
  {
   "cell_type": "code",
   "execution_count": 101,
   "outputs": [
    {
     "data": {
      "text/plain": "24"
     },
     "metadata": {},
     "output_type": "execute_result",
     "execution_count": 101
    }
   ],
   "source": [
    "# 什么是递归？\n",
    "# 在调用一个函数的过程中，直接或间接地调用了函数本身这个就叫递归。\n",
    "# 但为了避免出现死循环，必须要有一个结束条件\n",
    "\n",
    "def facto(n):\n",
    "    if n==1: return 1\n",
    "    return n * facto(n-1)\n",
    "facto(4)\n"
   ],
   "metadata": {
    "collapsed": false,
    "pycharm": {
     "name": "#%%\n",
     "is_executing": false
    }
   }
  },
  {
   "cell_type": "code",
   "execution_count": 102,
   "outputs": [
    {
     "data": {
      "text/plain": "'\\n迭代器（iterate）：\\n    1.意味着重复多次，类似于循环一样（list、 tuple）\\n    2.实现了方法 __iter__ 的对象的可迭代的，实现了方法 __next__ 的对象是迭代器\\n    3.调用方法__next__ 时，（或者next()）,迭代器返回的旗下一个值\\n    4.如果迭代器没有可提供的返回值，触发 StopIteration 异常\\n\\n'"
     },
     "metadata": {},
     "output_type": "execute_result",
     "execution_count": 102
    }
   ],
   "source": [
    "# 什么是生成器？\n",
    "# 生成器会生成一系列的值用于迭代，这样看它又是一种可迭代对象。\n",
    "# 它是在for循环的过程中不断计算出下一个元素，并在适当的条件结束for循环。\n",
    "\n",
    "\n",
    "\"\"\"\n",
    "生成器：\n",
    "    1.生成器是一种普遍使用的函数语法定义的迭代器\n",
    "    2.包含 yield 语句的函数都被称为生成器\n",
    "    3.不使用 return 返回一个值，而是生成多个值，每次一个\n",
    "    4.每次使用 yield 生成一个值之后，函数都将冻结，即在此停止执行\n",
    "    5.被重新唤醒之后，函数将从停止的地方开始继续执行\n",
    "\"\"\"\n",
    "\n",
    "# 什么是迭代器？\n",
    "# 迭代器是访问集合元素的一种方式。\n",
    "# 迭代器对象从集合的第一个元素开始访问，直到所有的元素被访问完结束。\n",
    "# 迭代器只能往前不会后退。我们使用inter()函数创建迭代器。\n",
    "\n",
    "\"\"\"\n",
    "迭代器（iterate）：\n",
    "    1.意味着重复多次，类似于循环一样（list、 tuple）\n",
    "    2.实现了方法 __iter__ 的对象的可迭代的，实现了方法 __next__ 的对象是迭代器\n",
    "    3.调用方法__next__ 时，（或者next()）,迭代器返回的旗下一个值\n",
    "    4.如果迭代器没有可提供的返回值，触发 StopIteration 异常\n",
    "\n",
    "\"\"\"\n",
    "\n",
    "\n",
    "# 请说说生成器和迭代器之间的区别?\n",
    "#     在使用生成器时，我们创建一个函数；在使用迭代器时，我们使用内置函数 iter() 和 next()。 \n",
    "#     在生成器中，我们使用关键字‘yield’来每次生成/返回一个对象。 \n",
    "#     生成器中有多少‘yield’语句，你可以自定义。 每次‘yield’暂停循环时，生成器会保存本地变量的状态。\n",
    "# \n",
    "# \n",
    "#     而迭代器并不会使用局部变量，它只需要一个可迭代对象进行迭代。 \n",
    "#     使用类可以实现你自己的迭代器，但无法实现生成器。 \n",
    "#     生成器运行速度快，语法简洁，更简单。 迭代器更能节约内存。\n",
    "\n"
   ],
   "metadata": {
    "collapsed": false,
    "pycharm": {
     "name": "#%%\n",
     "is_executing": false
    }
   }
  },
  {
   "cell_type": "code",
   "execution_count": 104,
   "outputs": [
    {
     "name": "stdout",
     "text": [
      "0\n",
      "1\n",
      "4\n",
      "9\n",
      "16\n",
      "25\n",
      "36\n"
     ],
     "output_type": "stream"
    }
   ],
   "source": [
    "# Python中的yield用法\n",
    "        \n",
    "        # yield简单说来就是一个生成器，这样函数它记住上次返 回时在函数体中的位置。\n",
    "        \n",
    "        # 对生成器第 二次(或n 次)调用跳转至该函 次)调用跳转至该函数。\n",
    "        \n",
    "def power_number():\n",
    "    for i in range(9):\n",
    "        yield i * i\n",
    "\n",
    "if __name__ == '__main__':\n",
    "        \n",
    "    rest = power_number()\n",
    "    print(next(rest))\n",
    "    print(next(rest))\n",
    "    print(next(rest))\n",
    "    print(next(rest))\n",
    "    print(next(rest))\n",
    "    print(next(rest))\n",
    "    print(next(rest))\n",
    "    \n"
   ],
   "metadata": {
    "collapsed": false,
    "pycharm": {
     "name": "#%%\n",
     "is_executing": false
    }
   }
  },
  {
   "cell_type": "code",
   "execution_count": 105,
   "outputs": [
    {
     "data": {
      "text/plain": "\"\\n解释Python的参数传递机制:\\n    Python使用按引用传递（pass-by-reference）将参数传递到函数中。\\n    如果你改变一个函数内的参数，会影响到函数的调用。这是Python的默认操作。\\n    不过，如果我们传递字面参数，比如字符串、数字或元组，它们是按值传递，这是因为它们是不可变的。\\n\\n    python不允许程序员选择采用传值还是传引用。Python参数传递采用的肯定是“传对象引用”的方式。    \\n    这种方式相当于传值和传引用的一种综合。如果函数收到的是一个可变对象（比如字典或者列表）的引用，\\n    就能修改对象的原始值－－相当于通过“传引用”来传递对象。\\n    \\n    如果函数收到的是一个不可变对象（比如数字、字符或者元组）的引用，\\n    就不能直接修改原始对象－－相当于通过“传值'来传递对象。\\n\\n\\n\""
     },
     "metadata": {},
     "output_type": "execute_result",
     "execution_count": 105
    }
   ],
   "source": [
    "\"\"\"\n",
    "解释Python的参数传递机制:\n",
    "    Python使用按引用传递（pass-by-reference）将参数传递到函数中。\n",
    "    如果你改变一个函数内的参数，会影响到函数的调用。这是Python的默认操作。\n",
    "    不过，如果我们传递字面参数，比如字符串、数字或元组，它们是按值传递，这是因为它们是不可变的。\n",
    "\n",
    "    python不允许程序员选择采用传值还是传引用。Python参数传递采用的肯定是“传对象引用”的方式。\\\n",
    "    \n",
    "    这种方式相当于传值和传引用的一种综合。如果函数收到的是一个可变对象（比如字典或者列表）的引用，\n",
    "    就能修改对象的原始值－－相当于通过“传引用”来传递对象。\n",
    "    \n",
    "    如果函数收到的是一个不可变对象（比如数字、字符或者元组）的引用，\n",
    "    就不能直接修改原始对象－－相当于通过“传值'来传递对象。\n",
    "\n",
    "\n",
    "\"\"\"\n"
   ],
   "metadata": {
    "collapsed": false,
    "pycharm": {
     "name": "#%%\n",
     "is_executing": false
    }
   }
  },
  {
   "cell_type": "code",
   "execution_count": 106,
   "outputs": [],
   "source": [
    "# 如何在Python中创建自己的包？\n",
    "    # Python中创建包是比较方便的，只需要在当前目录建立一个文件夹，文件夹中包含一个init.py文件和若干个模块文件，\n",
    "    # 其中init.py可以是一个空文件，但还是建议将包中所有需要导出的变量放到all中，这样可以确保包的接口清晰明了，易于使用。\n",
    "\n"
   ],
   "metadata": {
    "collapsed": false,
    "pycharm": {
     "name": "#%%\n",
     "is_executing": false
    }
   }
  },
  {
   "cell_type": "code",
   "execution_count": 109,
   "outputs": [
    {
     "name": "stdout",
     "text": [
      "class defined\n",
      "Base class instance created\n",
      "Base class instance inited\n"
     ],
     "output_type": "stream"
    }
   ],
   "source": [
    "# 解释pyhton中的元类\n",
    "# 元类是类的类对象，换言之类是元类的实例，Python中默认的元类为type，\n",
    "# 可以通过自定义元类的方式实现对类创建的控制。  \n",
    "\n",
    "class Base:\n",
    "    a = 1\n",
    "    b = 2\n",
    "\n",
    "    print('class defined')\n",
    "\n",
    "    def __new__(cls, *args, **kwargs):\n",
    "        print(cls.__name__, 'class instance created')\n",
    "        return super().__new__(cls)\n",
    "\n",
    "    def __init__(self):\n",
    "        print(type(self).__name__, 'class instance inited')\n",
    "\n",
    "    def hello(self):\n",
    "        pass\n",
    "\n",
    "\n",
    "b = Base()\n",
    "\n",
    "\n",
    "# 当调用print(type(b))，得到，可知b是Base类的实例。\n",
    "# Python是纯面向对象语言，因此类也是对象，当调用print(type(Base))时得到，\n",
    "# 可知类Base是type的实例，type就是Python中的原生元类，用来控制、生成类这个对象。 \n",
    "# 一般地，在定义类时，默认的此类的元类是type，因此，如果我们想控制类的创建，\n",
    "# 需要将类的元类指为我们自定义的元类，这个自定义的元类需要继承type元类。"
   ],
   "metadata": {
    "collapsed": false,
    "pycharm": {
     "name": "#%%\n",
     "is_executing": false
    }
   }
  },
  {
   "cell_type": "code",
   "execution_count": 114,
   "outputs": [
    {
     "name": "stdout",
     "text": [
      "3\n"
     ],
     "output_type": "stream"
    }
   ],
   "source": [
    "\n",
    "\n",
    "ans = (lambda a, b: a if a > b else b)(1, 3)\n",
    "print(ans)"
   ],
   "metadata": {
    "collapsed": false,
    "pycharm": {
     "name": "#%%\n",
     "is_executing": false
    }
   }
  }
 ],
 "metadata": {
  "kernelspec": {
   "display_name": "Python 3",
   "language": "python",
   "name": "python3"
  },
  "language_info": {
   "codemirror_mode": {
    "name": "ipython",
    "version": 2
   },
   "file_extension": ".py",
   "mimetype": "text/x-python",
   "name": "python",
   "nbconvert_exporter": "python",
   "pygments_lexer": "ipython2",
   "version": "2.7.6"
  },
  "pycharm": {
   "stem_cell": {
    "cell_type": "raw",
    "source": [],
    "metadata": {
     "collapsed": false
    }
   }
  }
 },
 "nbformat": 4,
 "nbformat_minor": 0
}