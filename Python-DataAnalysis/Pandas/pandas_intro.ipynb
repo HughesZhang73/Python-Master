{
 "cells": [
  {
   "cell_type": "code",
   "execution_count": 12,
   "metadata": {
    "collapsed": true,
    "pycharm": {
     "is_executing": false,
     "name": "#%%\n"
    }
   },
   "outputs": [
    {
     "data": {
      "text/plain": "       name    Place Country\n0  XiaoMing  Beijing   China\n1  XiaoHong    Wuhan   China\n2    Hughes       LA     USA\n3      Jack       Pa  France",
      "text/html": "<div>\n<style scoped>\n    .dataframe tbody tr th:only-of-type {\n        vertical-align: middle;\n    }\n\n    .dataframe tbody tr th {\n        vertical-align: top;\n    }\n\n    .dataframe thead th {\n        text-align: right;\n    }\n</style>\n<table border=\"1\" class=\"dataframe\">\n  <thead>\n    <tr style=\"text-align: right;\">\n      <th></th>\n      <th>name</th>\n      <th>Place</th>\n      <th>Country</th>\n    </tr>\n  </thead>\n  <tbody>\n    <tr>\n      <th>0</th>\n      <td>XiaoMing</td>\n      <td>Beijing</td>\n      <td>China</td>\n    </tr>\n    <tr>\n      <th>1</th>\n      <td>XiaoHong</td>\n      <td>Wuhan</td>\n      <td>China</td>\n    </tr>\n    <tr>\n      <th>2</th>\n      <td>Hughes</td>\n      <td>LA</td>\n      <td>USA</td>\n    </tr>\n    <tr>\n      <th>3</th>\n      <td>Jack</td>\n      <td>Pa</td>\n      <td>France</td>\n    </tr>\n  </tbody>\n</table>\n</div>"
     },
     "metadata": {},
     "output_type": "execute_result",
     "execution_count": 12
    }
   ],
   "source": [
    "# 创建Dataframe\n",
    "import pandas as pd\n",
    "students = pd.DataFrame([\n",
    "    ['XiaoMing', 'Beijing', 'China'],\n",
    "    ['XiaoHong', 'Wuhan', 'China'],\n",
    "    ['Hughes', 'LA', 'USA'],\n",
    "    ['Jack', 'Pa', 'France']],\n",
    "    columns = ['name', 'Place', 'Country'])\n",
    "\n",
    "students"
   ]
  },
  {
   "cell_type": "code",
   "execution_count": 13,
   "outputs": [
    {
     "data": {
      "text/plain": "       name    Place Country\n0  XiaoMing  Beijing   China\n1  XiaoHong    Wuhan   China\n2    Hughes       LA     USA",
      "text/html": "<div>\n<style scoped>\n    .dataframe tbody tr th:only-of-type {\n        vertical-align: middle;\n    }\n\n    .dataframe tbody tr th {\n        vertical-align: top;\n    }\n\n    .dataframe thead th {\n        text-align: right;\n    }\n</style>\n<table border=\"1\" class=\"dataframe\">\n  <thead>\n    <tr style=\"text-align: right;\">\n      <th></th>\n      <th>name</th>\n      <th>Place</th>\n      <th>Country</th>\n    </tr>\n  </thead>\n  <tbody>\n    <tr>\n      <th>0</th>\n      <td>XiaoMing</td>\n      <td>Beijing</td>\n      <td>China</td>\n    </tr>\n    <tr>\n      <th>1</th>\n      <td>XiaoHong</td>\n      <td>Wuhan</td>\n      <td>China</td>\n    </tr>\n    <tr>\n      <th>2</th>\n      <td>Hughes</td>\n      <td>LA</td>\n      <td>USA</td>\n    </tr>\n  </tbody>\n</table>\n</div>"
     },
     "metadata": {},
     "output_type": "execute_result",
     "execution_count": 13
    }
   ],
   "source": [
    "# display the head\n",
    "students.head(3)"
   ],
   "metadata": {
    "collapsed": false,
    "pycharm": {
     "name": "#%%\n",
     "is_executing": false
    }
   }
  },
  {
   "cell_type": "code",
   "execution_count": 14,
   "outputs": [
    {
     "data": {
      "text/plain": "       name  Place Country\n1  XiaoHong  Wuhan   China\n2    Hughes     LA     USA\n3      Jack     Pa  France",
      "text/html": "<div>\n<style scoped>\n    .dataframe tbody tr th:only-of-type {\n        vertical-align: middle;\n    }\n\n    .dataframe tbody tr th {\n        vertical-align: top;\n    }\n\n    .dataframe thead th {\n        text-align: right;\n    }\n</style>\n<table border=\"1\" class=\"dataframe\">\n  <thead>\n    <tr style=\"text-align: right;\">\n      <th></th>\n      <th>name</th>\n      <th>Place</th>\n      <th>Country</th>\n    </tr>\n  </thead>\n  <tbody>\n    <tr>\n      <th>1</th>\n      <td>XiaoHong</td>\n      <td>Wuhan</td>\n      <td>China</td>\n    </tr>\n    <tr>\n      <th>2</th>\n      <td>Hughes</td>\n      <td>LA</td>\n      <td>USA</td>\n    </tr>\n    <tr>\n      <th>3</th>\n      <td>Jack</td>\n      <td>Pa</td>\n      <td>France</td>\n    </tr>\n  </tbody>\n</table>\n</div>"
     },
     "metadata": {},
     "output_type": "execute_result",
     "execution_count": 14
    }
   ],
   "source": [
    "# display the tails\n",
    "students.tail(3)\n"
   ],
   "metadata": {
    "collapsed": false,
    "pycharm": {
     "name": "#%%\n",
     "is_executing": false
    }
   }
  },
  {
   "cell_type": "code",
   "execution_count": 15,
   "outputs": [
    {
     "data": {
      "text/plain": "(4, 3)"
     },
     "metadata": {},
     "output_type": "execute_result",
     "execution_count": 15
    }
   ],
   "source": [
    "# numnber of raws and colunm\n",
    "students.shape\n"
   ],
   "metadata": {
    "collapsed": false,
    "pycharm": {
     "name": "#%%\n",
     "is_executing": false
    }
   }
  },
  {
   "cell_type": "code",
   "execution_count": 17,
   "outputs": [
    {
     "name": "stdout",
     "text": [
      "<class 'pandas.core.frame.DataFrame'>\n",
      "RangeIndex: 4 entries, 0 to 3\n",
      "Data columns (total 3 columns):\n",
      "name       4 non-null object\n",
      "Place      4 non-null object\n",
      "Country    4 non-null object\n",
      "dtypes: object(3)\n",
      "memory usage: 176.0+ bytes\n"
     ],
     "output_type": "stream"
    }
   ],
   "source": [
    "# display the info will return more detailed information\n",
    "students.info()\n"
   ],
   "metadata": {
    "collapsed": false,
    "pycharm": {
     "name": "#%%\n",
     "is_executing": false
    }
   }
  },
  {
   "cell_type": "code",
   "execution_count": 18,
   "outputs": [
    {
     "data": {
      "text/plain": "       name    Place\n0  XiaoMing  Beijing\n1  XiaoHong    Wuhan\n2    Hughes       LA\n3      Jack       Pa",
      "text/html": "<div>\n<style scoped>\n    .dataframe tbody tr th:only-of-type {\n        vertical-align: middle;\n    }\n\n    .dataframe tbody tr th {\n        vertical-align: top;\n    }\n\n    .dataframe thead th {\n        text-align: right;\n    }\n</style>\n<table border=\"1\" class=\"dataframe\">\n  <thead>\n    <tr style=\"text-align: right;\">\n      <th></th>\n      <th>name</th>\n      <th>Place</th>\n    </tr>\n  </thead>\n  <tbody>\n    <tr>\n      <th>0</th>\n      <td>XiaoMing</td>\n      <td>Beijing</td>\n    </tr>\n    <tr>\n      <th>1</th>\n      <td>XiaoHong</td>\n      <td>Wuhan</td>\n    </tr>\n    <tr>\n      <th>2</th>\n      <td>Hughes</td>\n      <td>LA</td>\n    </tr>\n    <tr>\n      <th>3</th>\n      <td>Jack</td>\n      <td>Pa</td>\n    </tr>\n  </tbody>\n</table>\n</div>"
     },
     "metadata": {},
     "output_type": "execute_result",
     "execution_count": 18
    }
   ],
   "source": [
    "# request a list of columns\n",
    "students[['name', 'Place']]\n"
   ],
   "metadata": {
    "collapsed": false,
    "pycharm": {
     "name": "#%%\n",
     "is_executing": false
    }
   }
  },
  {
   "cell_type": "code",
   "execution_count": null,
   "outputs": [],
   "source": [
    "\n"
   ],
   "metadata": {
    "collapsed": false,
    "pycharm": {
     "name": "#%%\n"
    }
   }
  }
 ],
 "metadata": {
  "kernelspec": {
   "display_name": "Python 3",
   "language": "python",
   "name": "python3"
  },
  "language_info": {
   "codemirror_mode": {
    "name": "ipython",
    "version": 2
   },
   "file_extension": ".py",
   "mimetype": "text/x-python",
   "name": "python",
   "nbconvert_exporter": "python",
   "pygments_lexer": "ipython2",
   "version": "2.7.6"
  },
  "pycharm": {
   "stem_cell": {
    "cell_type": "raw",
    "source": [],
    "metadata": {
     "collapsed": false
    }
   }
  }
 },
 "nbformat": 4,
 "nbformat_minor": 0
}