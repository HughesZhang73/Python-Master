{
 "cells": [
  {
   "cell_type": "code",
   "execution_count": 2,
   "metadata": {
    "collapsed": true,
    "pycharm": {
     "is_executing": false
    }
   },
   "outputs": [
    {
     "data": {
      "text/plain": "'\\nRedis(存入内存)\\n\\nMemcache（使用内存）\\n\\nMOngoDB（保存在硬盘上的，例如朋友圈，网站通知， 新闻，留言等海量信息）\\n\\nNeo4J （复杂的组织关系和人际关系）\\n\\n'"
     },
     "metadata": {},
     "output_type": "execute_result",
     "execution_count": 2
    }
   ],
   "source": [
    "# 数据库是计算机中存放的是数据的载体\n",
    "\n",
    "# 为什么不用文件来保存数据？？\n",
    "\"\"\"\n",
    "    保存数据可以，但是进行数据查询的时候就分麻烦了\n",
    "\n",
    "    Excel 不支持 关联信息的查找\n",
    "    \n",
    "    \n",
    "\"\"\" \n",
    "\n",
    "# 什么是 DBMS ？\n",
    "\"\"\"\n",
    "DBMS 是指能为用户提供信息服务的系统，它实现了 有组织、动态的存储大量的相关数据的功能，提供了数据处理和信息资源共享的遍历手段\n",
    "\"\"\"\n",
    "\n",
    "# 什么是关系型数据库？\n",
    "\"\"\"\n",
    "关系型数据库系统（RDBMS）是指使用了关系模型的数据库系统\n",
    "\n",
    "关系型数据库中，数据是分类存放的，数据之间可以有联系\n",
    "\n",
    "\"\"\"\n",
    "\n",
    "# 关系型数据库的应用\n",
    "\"\"\"\n",
    "教育系统、各种系统\n",
    "\"\"\"\n",
    "\n",
    "# 主流关系型数据库\n",
    "\"\"\"\n",
    "DB2\n",
    "Oracle\n",
    "MySQL\n",
    "SQL Server\n",
    "\"\"\"\n",
    "\n",
    "# 什么是非关系型数据库（NoSQL）？\n",
    "\"\"\"\n",
    "NoSQL 数据库是指数据分类存放，但是数据之间没有关联的关系的数据库系统\n",
    "\n",
    "（1. 低价值信息（例如朋友圈这种）  2 .关系型数据库需要创建表，各个字段的校验等十分浪费时间  \n",
    "3. 关系型数据库大部分是多线程的，NOSQl数据库是单线程的，很好的支持秒杀系统，所以秒杀系统大部分不使用关系型数据库）\n",
    "\"\"\"\n",
    "\n",
    "# 有哪些NoSQL 数据库？\n",
    "\"\"\"\n",
    "Redis(存入内存)\n",
    "\n",
    "Memcache（使用内存）\n",
    "\n",
    "MOngoDB（保存在硬盘上的，例如朋友圈，网站通知， 新闻，留言等海量信息）\n",
    "\n",
    "Neo4J （复杂的组织关系和人际关系）\n",
    "\n",
    "\"\"\"\n",
    "\n",
    "\n"
   ]
  }
 ],
 "metadata": {
  "kernelspec": {
   "display_name": "Python 3",
   "language": "python",
   "name": "python3"
  },
  "language_info": {
   "codemirror_mode": {
    "name": "ipython",
    "version": 2
   },
   "file_extension": ".py",
   "mimetype": "text/x-python",
   "name": "python",
   "nbconvert_exporter": "python",
   "pygments_lexer": "ipython2",
   "version": "2.7.6"
  },
  "pycharm": {
   "stem_cell": {
    "cell_type": "raw",
    "source": [],
    "metadata": {
     "collapsed": false
    }
   }
  }
 },
 "nbformat": 4,
 "nbformat_minor": 0
}