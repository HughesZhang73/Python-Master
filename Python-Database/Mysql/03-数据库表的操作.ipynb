{
 "cells": [
  {
   "cell_type": "code",
   "execution_count": 3,
   "metadata": {
    "collapsed": true,
    "pycharm": {
     "is_executing": false
    }
   },
   "outputs": [
    {
     "data": {
      "text/plain": "'\\nSQL:\\n    1. DML(数据操作语言): 增、删、改、查\\n    2. DCL(数据控控制语言)：事务、权限、用户\\n    3. DDL(数据控制语言)：逻辑库、数据表、视图、索引等\\n    \\n'"
     },
     "metadata": {},
     "output_type": "execute_result",
     "execution_count": 3
    }
   ],
   "source": [
    "\"\"\"\n",
    "SQL:\n",
    "    1. DML(数据操作语言): 增、删、改、查\n",
    "    2. DCL(数据控制语言)：事务、权限、用户\n",
    "    3. DDL(数据定义语言)：逻辑库、数据表、视图、索引等\n",
    "\n",
    "\n",
    "创建逻辑库：\n",
    "    CREATE TABLE IF NOT EXISTS temp(\n",
    "  id int UNSIGNED PRIMARY KEY,\n",
    "\tnum DECIMAL(20, 10)\n",
    ");\n",
    "\n",
    "ALTER TABLE temp \n",
    "ADD address VARCHAR(200) NOT NULL,\n",
    "ADD tempw VARCHAR(11) NOT NULL;\n",
    "\n",
    "ALTER TABLE temp \n",
    "MODIFY address VARCHAR(20) NOT NULL;\n",
    "\n",
    "ALTER TABLE temp \n",
    "CHANGE address home_address VARCHAR(200) NOT NULL,\n",
    "CHANGE tempw temp_next VARCHAR(2000) NOT NULL;\n",
    "\n",
    "ALTER TABLE temp \n",
    "DROP home_address,\n",
    "DROP temp_next;\n",
    "\n",
    "DESC temp;\n",
    "\n",
    "SELECT * FROM temp;\n",
    "\n",
    "    \n",
    "    \n",
    "    \n",
    "    \n",
    "\"\"\""
   ]
  }
 ],
 "metadata": {
  "kernelspec": {
   "display_name": "Python 3",
   "language": "python",
   "name": "python3"
  },
  "language_info": {
   "codemirror_mode": {
    "name": "ipython",
    "version": 2
   },
   "file_extension": ".py",
   "mimetype": "text/x-python",
   "name": "python",
   "nbconvert_exporter": "python",
   "pygments_lexer": "ipython2",
   "version": "2.7.6"
  },
  "pycharm": {
   "stem_cell": {
    "cell_type": "raw",
    "source": [],
    "metadata": {
     "collapsed": false
    }
   }
  }
 },
 "nbformat": 4,
 "nbformat_minor": 0
}