{
 "cells": [
  {
   "cell_type": "code",
   "execution_count": 1,
   "metadata": {
    "collapsed": true,
    "pycharm": {
     "is_executing": false
    }
   },
   "outputs": [
    {
     "data": {
      "text/plain": "'\\n第一范式：原子性\\n    -关系型数据库必备\\n    \\n    -每一列的数据都是不可分割的\\n\\n第二范式：唯一性\\n    - 数据表中的每一条字段都是唯一的\\n    \\n    -存在唯一的标识来区分记录\\n\\n第三范式：关联性\\n    -每列都与主键有直接的关系\\n    \\n    -不存在传递依赖\\n    \\n    -依照第三范式，数据可以拆分保存到不同的数据表中，彼此保持联系\\n    \\n    \\n'"
     },
     "metadata": {},
     "output_type": "execute_result",
     "execution_count": 1
    }
   ],
   "source": [
    "\"\"\"\n",
    "第一范式：原子性\n",
    "    -关系型数据库必备\n",
    "    \n",
    "    -每一列的数据都是不可分割的\n",
    "\n",
    "第二范式：唯一性\n",
    "    - 数据表中的每一条字段都是唯一的\n",
    "    \n",
    "    -存在唯一的标识来区分记录\n",
    "\n",
    "第三范式：关联性\n",
    "    -每列都与主键有直接的关系\n",
    "    \n",
    "    -不存在传递依赖\n",
    "    \n",
    "    -依照第三范式，数据可以拆分保存到不同的数据表中，彼此保持联系\n",
    "    \n",
    "    \n",
    "\"\"\""
   ]
  },
  {
   "cell_type": "code",
   "execution_count": 2,
   "outputs": [
    {
     "data": {
      "text/plain": "'\\n字段约束：\\n        \\n约束描述   |    关键字         |         描述\\n主键约束      PRIMARY KEY        字段值唯一，且不能为NULL\\n非空约束      NOT NULL           字段值不能为NULL\\n唯一约束      UNIQUE             字段值唯一，且可以为NULL\\n外键约束      FOREIGN KEY        保持关联数据的逻辑性\\n'"
     },
     "metadata": {},
     "output_type": "execute_result",
     "execution_count": 2
    }
   ],
   "source": [
    "\"\"\"\n",
    "字段约束：\n",
    "        \n",
    "约束描述   |    关键字         |         描述\n",
    "主键约束      PRIMARY KEY        字段值唯一，且不能为NULL\n",
    "非空约束      NOT NULL           字段值不能为NULL\n",
    "唯一约束      UNIQUE             字段值唯一，且可以为NULL\n",
    "外键约束      FOREIGN KEY        保持关联数据的逻辑性\n",
    "\"\"\"\n",
    "\n"
   ],
   "metadata": {
    "collapsed": false,
    "pycharm": {
     "name": "#%%\n",
     "is_executing": false
    }
   }
  },
  {
   "cell_type": "code",
   "execution_count": 7,
   "outputs": [
    {
     "data": {
      "text/plain": "'\\n主键约束：\\n    1. 主键约束必须要求字段的值是全表唯一的，并且不能为NULL\\n    \\n    2. 建议主键一定要使用数字类型，因为数字类型的检索速度会很快\\n    \\n    3，如果主键是数字类型，还可以设置自动增长：\\n        CREATE TABLE STUDENT (\\n            id INT PRIMARY KEY AUTO_INCREMENT,\\n            ...\\n        );\\n\\n非空约束：\\n    1. 非空约束 要求字段的值不能为 NULL 值\\n    \\n    2， NULL 的值 表示 以为以为没有值，但不是 \" \" 空字符串\\n    \\n    3. 如果有时候遇到 BOOLEAN 的字段，可以：\\n        NOT NULL DEFAULT FALSE 来默认是 FALSE\\n\\n外键约束：\\n    1. 分为父表和子表，比如部门表是父表，员工表是子表，员工表中有部门的信息\\n    \\n    2. 外键的约束时写在子表上的\\n    \\n    3. 外键约束会形成外键闭环，会出现无法删除任何一张表\\n\\n'"
     },
     "metadata": {},
     "output_type": "execute_result",
     "execution_count": 7
    }
   ],
   "source": [
    "\"\"\"\n",
    "主键约束：\n",
    "    1. 主键约束必须要求字段的值是全表唯一的，并且不能为NULL\n",
    "    \n",
    "    2. 建议主键一定要使用数字类型，因为数字类型的检索速度会很快\n",
    "    \n",
    "    3，如果主键是数字类型，还可以设置自动增长：\n",
    "        CREATE TABLE STUDENT (\n",
    "            id INT PRIMARY KEY AUTO_INCREMENT,\n",
    "            ...\n",
    "        );\n",
    "\n",
    "非空约束：\n",
    "    1. 非空约束 要求字段的值不能为 NULL 值\n",
    "    \n",
    "    2， NULL 的值 表示 以为以为没有值，但不是 \" \" 空字符串\n",
    "    \n",
    "    3. 如果有时候遇到 BOOLEAN 的字段，可以：\n",
    "        NOT NULL DEFAULT FALSE 来默认是 FALSE\n",
    "\n",
    "外键约束：\n",
    "    1. 分为父表和子表，比如部门表是父表，员工表是子表，员工表中有部门的信息\n",
    "    \n",
    "    2. 外键的约束时写在子表上的\n",
    "    \n",
    "    3. 外键约束会形成外键闭环，会出现无法删除任何一张表\n",
    "\n",
    "\"\"\""
   ],
   "metadata": {
    "collapsed": false,
    "pycharm": {
     "name": "#%%\n",
     "is_executing": false
    }
   }
  },
  {
   "cell_type": "code",
   "execution_count": 8,
   "outputs": [
    {
     "data": {
      "text/plain": "'\\nCREATE TABLE t_dept(\\n\\tdeptno INT UNSIGNED PRIMARY KEY,\\n\\tdname VARCHAR(20) NOT NULL UNIQUE,\\n\\ttel CHAR(4) UNIQUE\\n);\\n\\n\\nCREATE TABLE t_emp(\\n\\tempno INT UNSIGNED PRIMARY KEY,\\n\\tename VARCHAR(20) NOT NULL,\\n\\tsex ENUM(\"man\", \"woman\") NOT NULL,\\n\\tdeptno INT UNSIGNED NOT NULL,\\n\\thiredate DATE NOT NULL,\\n\\tFOREIGN KEY (deptno) REFERENCES t_dept(deptno)\\n);\\n'"
     },
     "metadata": {},
     "output_type": "execute_result",
     "execution_count": 8
    }
   ],
   "source": [
    "\"\"\"\n",
    "CREATE TABLE t_dept(\n",
    "\tdeptno INT UNSIGNED PRIMARY KEY,\n",
    "\tdname VARCHAR(20) NOT NULL UNIQUE,\n",
    "\ttel CHAR(4) UNIQUE\n",
    ");\n",
    "\n",
    "\n",
    "CREATE TABLE t_emp(\n",
    "\tempno INT UNSIGNED PRIMARY KEY,\n",
    "\tename VARCHAR(20) NOT NULL,\n",
    "\tsex ENUM(\"man\", \"woman\") NOT NULL,\n",
    "\tdeptno INT UNSIGNED NOT NULL,\n",
    "\thiredate DATE NOT NULL,\n",
    "\tFOREIGN KEY (deptno) REFERENCES t_dept(deptno)\n",
    ");\n",
    "\"\"\"\n"
   ],
   "metadata": {
    "collapsed": false,
    "pycharm": {
     "name": "#%%\n",
     "is_executing": false
    }
   }
  }
 ],
 "metadata": {
  "kernelspec": {
   "display_name": "Python 3",
   "language": "python",
   "name": "python3"
  },
  "language_info": {
   "codemirror_mode": {
    "name": "ipython",
    "version": 2
   },
   "file_extension": ".py",
   "mimetype": "text/x-python",
   "name": "python",
   "nbconvert_exporter": "python",
   "pygments_lexer": "ipython2",
   "version": "2.7.6"
  },
  "pycharm": {
   "stem_cell": {
    "cell_type": "raw",
    "source": [],
    "metadata": {
     "collapsed": false
    }
   }
  }
 },
 "nbformat": 4,
 "nbformat_minor": 0
}