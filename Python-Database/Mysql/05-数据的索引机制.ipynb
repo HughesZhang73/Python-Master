{
 "cells": [
  {
   "cell_type": "code",
   "execution_count": 2,
   "metadata": {
    "collapsed": true,
    "pycharm": {
     "is_executing": false
    }
   },
   "outputs": [
    {
     "data": {
      "text/plain": "'\\n如何创建索引\\n\\nCREATE TABLE message(\\n    content VARCHAR(200) NOT NULL,\\n    type ENUM(\"1\", \"2\", \"3\") NOT NULL,\\n    create_time TIMESTAMP NOT NULL,\\n    INDEX idx_type (type)\\n);\\n\\nSELECT * FROM message;\\n\\ndrop INDEX idx_type on  message;\\n\\nCREATE INDEX idx_temp on message(type);\\n\\nalter table message add index idx_tttt(type);\\n\\nSHOW INDEX FROM message;\\n\\n'"
     },
     "metadata": {},
     "output_type": "execute_result",
     "execution_count": 2
    }
   ],
   "source": [
    "\"\"\"\n",
    "如何创建索引\n",
    "\n",
    "CREATE TABLE message(\n",
    "    content VARCHAR(200) NOT NULL,\n",
    "    type ENUM(\"1\", \"2\", \"3\") NOT NULL,\n",
    "    create_time TIMESTAMP NOT NULL,\n",
    "    INDEX idx_type (type)\n",
    ");\n",
    "\n",
    "SELECT * FROM message;\n",
    "\n",
    "drop INDEX idx_type on  message;\n",
    "\n",
    "CREATE INDEX idx_temp on message(type);\n",
    "\n",
    "alter table message add index idx_tttt(type);\n",
    "\n",
    "SHOW INDEX FROM message;\n",
    "\n",
    "\"\"\"\n",
    "\n"
   ]
  },
  {
   "cell_type": "code",
   "execution_count": 3,
   "outputs": [
    {
     "data": {
      "text/plain": "'\\n索引的使用原则：\\n    1. 数据量很大的时候，而且经常被查询的而数据表上可以设置索引\\n    \\n    2，索引只添加到经常被作为检索条件的字段上面\\n    \\n    3. 不要在大字段上创建索引\\n'"
     },
     "metadata": {},
     "output_type": "execute_result",
     "execution_count": 3
    }
   ],
   "source": [
    "\"\"\"\n",
    "索引的使用原则：\n",
    "    1. 数据量很大的时候，而且经常被查询的而数据表上可以设置索引\n",
    "    \n",
    "    2，索引只添加到经常被作为检索条件的字段上面\n",
    "    \n",
    "    3. 不要在大字段上创建索引\n",
    "\"\"\""
   ],
   "metadata": {
    "collapsed": false,
    "pycharm": {
     "name": "#%%\n",
     "is_executing": false
    }
   }
  },
  {
   "cell_type": "code",
   "execution_count": null,
   "outputs": [],
   "source": [
    "\n"
   ],
   "metadata": {
    "collapsed": false,
    "pycharm": {
     "name": "#%%\n"
    }
   }
  }
 ],
 "metadata": {
  "kernelspec": {
   "display_name": "Python 3",
   "language": "python",
   "name": "python3"
  },
  "language_info": {
   "codemirror_mode": {
    "name": "ipython",
    "version": 2
   },
   "file_extension": ".py",
   "mimetype": "text/x-python",
   "name": "python",
   "nbconvert_exporter": "python",
   "pygments_lexer": "ipython2",
   "version": "2.7.6"
  },
  "pycharm": {
   "stem_cell": {
    "cell_type": "raw",
    "source": [],
    "metadata": {
     "collapsed": false
    }
   }
  }
 },
 "nbformat": 4,
 "nbformat_minor": 0
}