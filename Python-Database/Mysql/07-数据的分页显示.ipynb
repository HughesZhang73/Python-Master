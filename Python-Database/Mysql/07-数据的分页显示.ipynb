{
 "cells": [
  {
   "cell_type": "code",
   "execution_count": null,
   "metadata": {
    "collapsed": true
   },
   "outputs": [],
   "source": [
    "\"\"\"\n",
    "1. 应用程序有时会加载部分信息，不会一次加载全部信息，因为会浪费内存和CPU\n",
    "\n",
    "2. 如果结果集的记录很多，则可以使用 LIMIT 关键字限定结果的数量级\n",
    "    select ..... from ....... limit 起始位置, 偏移量;\n",
    "    \n",
    "    \n",
    "    SELECT imdbid FROM `moviegenre3` LIMIT 0, 20;\n",
    "    \n",
    "    SELECT imdbid FROM `moviegenre3` LIMIT 20;\n",
    "    \n",
    "\"\"\"\n"
   ]
  }
 ],
 "metadata": {
  "kernelspec": {
   "display_name": "Python 3",
   "language": "python",
   "name": "python3"
  },
  "language_info": {
   "codemirror_mode": {
    "name": "ipython",
    "version": 2
   },
   "file_extension": ".py",
   "mimetype": "text/x-python",
   "name": "python",
   "nbconvert_exporter": "python",
   "pygments_lexer": "ipython2",
   "version": "2.7.6"
  },
  "pycharm": {
   "stem_cell": {
    "cell_type": "raw",
    "source": [],
    "metadata": {
     "collapsed": false
    }
   }
  }
 },
 "nbformat": 4,
 "nbformat_minor": 0
}