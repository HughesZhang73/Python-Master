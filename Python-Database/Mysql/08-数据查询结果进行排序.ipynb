{
 "cells": [
  {
   "cell_type": "code",
   "execution_count": 1,
   "metadata": {
    "collapsed": true,
    "pycharm": {
     "is_executing": false
    }
   },
   "outputs": [
    {
     "data": {
      "text/plain": "'\\n使用 order by 进行结果集的排序\\n\\nselect .......... from ........... order by .............. 列名 [ASC|DESC];    \\n\\n\\nSELECT * FROM users_resulttable ORDER BY imdbId;\\n\\n\\n'"
     },
     "metadata": {},
     "output_type": "execute_result",
     "execution_count": 1
    }
   ],
   "source": [
    "\"\"\"\n",
    "单个排序字段：\n",
    "    使用 order by 进行结果集的排序\n",
    "    \n",
    "    select .......... from ........... order by .............. 列名 [ASC|DESC];    \n",
    "    \n",
    "    \n",
    "    SELECT * FROM users_resulttable ORDER BY imdbId;\n",
    "\n",
    "\n",
    "\"\"\""
   ]
  },
  {
   "cell_type": "code",
   "execution_count": 2,
   "outputs": [
    {
     "data": {
      "text/plain": "'\\n多个排序字段：\\n    可以使用 order by 规定首要排序条件 和 次要排序 条件。数据库会按照首要排序条件进行\\n    \\n    条件排序。如果遇到首要排序内容相同的记录，那么就会启用次要排序体条件接着排序\\n    \\n    \\n    \\n    \\n\\n'"
     },
     "metadata": {},
     "output_type": "execute_result",
     "execution_count": 2
    }
   ],
   "source": [
    "\"\"\"\n",
    "多个排序字段：\n",
    "    可以使用 order by 规定首要排序条件 和 次要排序 条件。数据库会按照首要排序条件进行\n",
    "    \n",
    "    条件排序。如果遇到首要排序内容相同的记录，那么就会启用次要排序体条件接着排序\n",
    "    \n",
    "    \n",
    "    \n",
    "    \n",
    "\n",
    "\"\"\""
   ],
   "metadata": {
    "collapsed": false,
    "pycharm": {
     "name": "#%%\n",
     "is_executing": false
    }
   }
  },
  {
   "cell_type": "code",
   "execution_count": 3,
   "outputs": [
    {
     "data": {
      "text/plain": "'\\nfrom -> select -> order by -> limit\\n\\n'"
     },
     "metadata": {},
     "output_type": "execute_result",
     "execution_count": 3
    }
   ],
   "source": [
    "\"\"\"\n",
    "from -> select -> order by -> limit\n",
    "\n",
    "\"\"\""
   ],
   "metadata": {
    "collapsed": false,
    "pycharm": {
     "name": "#%%\n",
     "is_executing": false
    }
   }
  },
  {
   "cell_type": "code",
   "execution_count": null,
   "outputs": [],
   "source": [
    "\n"
   ],
   "metadata": {
    "collapsed": false,
    "pycharm": {
     "name": "#%%\n"
    }
   }
  }
 ],
 "metadata": {
  "kernelspec": {
   "display_name": "Python 3",
   "language": "python",
   "name": "python3"
  },
  "language_info": {
   "codemirror_mode": {
    "name": "ipython",
    "version": 2
   },
   "file_extension": ".py",
   "mimetype": "text/x-python",
   "name": "python",
   "nbconvert_exporter": "python",
   "pygments_lexer": "ipython2",
   "version": "2.7.6"
  },
  "pycharm": {
   "stem_cell": {
    "cell_type": "raw",
    "source": [],
    "metadata": {
     "collapsed": false
    }
   }
  }
 },
 "nbformat": 4,
 "nbformat_minor": 0
}