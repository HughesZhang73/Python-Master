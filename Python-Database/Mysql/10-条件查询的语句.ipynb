{
 "cells": [
  {
   "cell_type": "code",
   "execution_count": 1,
   "metadata": {
    "collapsed": true,
    "pycharm": {
     "is_executing": false
    }
   },
   "outputs": [
    {
     "data": {
      "text/plain": "'\\nSELECT ...... FROM ..... WHERE 条件 [AND | OR ] 条件 ......;\\n\\nSELECT * FROM users_resulttable WHERE rating > 3.0;\\n\\n\\nSELECT * FROM users_resulttable WHERE rating > 3.0 and userId = 2;\\n'"
     },
     "metadata": {},
     "output_type": "execute_result",
     "execution_count": 1
    }
   ],
   "source": [
    "\"\"\"\n",
    "SELECT ...... FROM ..... WHERE 条件 [AND | OR ] 条件 ......;\n",
    "\n",
    "SELECT * FROM users_resulttable WHERE rating > 3.0;\n",
    "\n",
    "\n",
    "SELECT * FROM users_resulttable WHERE rating > 3.0 and userId = 2;\n",
    "\"\"\""
   ]
  },
  {
   "cell_type": "code",
   "execution_count": null,
   "outputs": [],
   "source": [
    "\"\"\"\n",
    "算术运算符：\n",
    "    + ：加法\n",
    "    - ：减法\n",
    "    * ：乘法\n",
    "    / ：除法\n",
    "    % ：求模\n",
    "\n",
    "\n",
    "比较运算发：\n",
    "    > \n",
    "    >=\n",
    "    <\n",
    "    <=\n",
    "    =\n",
    "    !=\n",
    "    IN\n",
    "\n",
    "    IS NULL      : 为空\n",
    "    IS NOT NULL  : 不为空\n",
    "    BETWEEN AND  : 范围\n",
    "    LIKE         : 模糊查询\n",
    "    REGEXP       : 正 则表达式 \n",
    "SELECT * FROM users_resulttable WHERE imdbId REGEXP \"^[0-9]{5}$\";\n",
    "\n",
    "\"\"\"\n"
   ],
   "metadata": {
    "collapsed": false,
    "pycharm": {
     "name": "#%%\n"
    }
   }
  }
 ],
 "metadata": {
  "kernelspec": {
   "display_name": "Python 3",
   "language": "python",
   "name": "python3"
  },
  "language_info": {
   "codemirror_mode": {
    "name": "ipython",
    "version": 2
   },
   "file_extension": ".py",
   "mimetype": "text/x-python",
   "name": "python",
   "nbconvert_exporter": "python",
   "pygments_lexer": "ipython2",
   "version": "2.7.6"
  },
  "pycharm": {
   "stem_cell": {
    "cell_type": "raw",
    "source": [],
    "metadata": {
     "collapsed": false
    }
   }
  }
 },
 "nbformat": 4,
 "nbformat_minor": 0
}