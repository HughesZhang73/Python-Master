{
 "cells": [
  {
   "cell_type": "code",
   "execution_count": null,
   "metadata": {
    "collapsed": true
   },
   "outputs": [],
   "source": [
    "\n",
    "\"\"\"\n",
    "AND\n",
    "\n",
    "OR\n",
    "\n",
    "NOT\n",
    "\n",
    "XOR\n",
    "\n",
    "\n",
    "按二进制按位运算\n",
    "\n",
    "& \n",
    "|\n",
    "~\n",
    "^\n",
    "<<\n",
    ">>\n",
    "\n",
    "WHERE 语句执行的顺序是从左往右的。应该把索引条件，或者筛选掉记录最多的条件写在最左侧\n",
    "\n",
    "\n",
    "FROM -> WHERE -> SELECT -> ORDER BY -> LIMIT\n",
    "\"\"\""
   ]
  }
 ],
 "metadata": {
  "kernelspec": {
   "display_name": "Python 3",
   "language": "python",
   "name": "python3"
  },
  "language_info": {
   "codemirror_mode": {
    "name": "ipython",
    "version": 2
   },
   "file_extension": ".py",
   "mimetype": "text/x-python",
   "name": "python",
   "nbconvert_exporter": "python",
   "pygments_lexer": "ipython2",
   "version": "2.7.6"
  },
  "pycharm": {
   "stem_cell": {
    "cell_type": "raw",
    "source": [],
    "metadata": {
     "collapsed": false
    }
   }
  }
 },
 "nbformat": 4,
 "nbformat_minor": 0
}