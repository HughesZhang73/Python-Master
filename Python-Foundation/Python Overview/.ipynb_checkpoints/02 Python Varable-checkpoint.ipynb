{
 "cells": [
  {
   "cell_type": "code",
   "execution_count": 2,
   "metadata": {
    "collapsed": true,
    "pycharm": {
     "is_executing": false
    }
   },
   "outputs": [
    {
     "name": "stdout",
     "output_type": "stream",
     "text": [
      "100 <class 'int'>\n",
      "1000.0 <class 'float'>\n",
      "Python <class 'str'>\n"
     ]
    }
   ],
   "source": [
    "# 认识数据类型\n",
    "#!/usr/bin/python\n",
    "# -*- coding: UTF-8 -*-\n",
    " \n",
    "counter = 100 # 赋值整型变量\n",
    "miles = 1000.0 # 浮点型\n",
    "name = \"Python\" # 字符串\n",
    " \n",
    "print(counter,type(counter))\n",
    "print(miles,type(miles))\n",
    "print(name,type(name))"
   ]
  },
  {
   "cell_type": "code",
   "execution_count": 4,
   "metadata": {
    "pycharm": {
     "is_executing": false,
     "name": "#%%\n"
    }
   },
   "outputs": [
    {
     "name": "stdout",
     "output_type": "stream",
     "text": [
      "Hello World!\n",
      "H\n",
      "llo\n",
      "llo World!\n",
      "Hello World!Hello World!\n",
      "Hello World!TEST\n"
     ]
    }
   ],
   "source": [
    "# 认识字符串\n",
    "#!/usr/bin/python\n",
    "# -*- coding: UTF-8 -*-\n",
    " \n",
    "str = 'Hello World!'\n",
    " \n",
    "print(str)           # 输出完整字符串\n",
    "print(str[0])        # 输出字符串中的第一个字符\n",
    "print(str[2:5])      # 输出字符串中第三个至第六个之间的字符串\n",
    "print(str[2:])       # 输出从第三个字符开始的字符串\n",
    "print(str * 2)       # 输出字符串两次\n",
    "print(str + \"TEST\")  # 输出连接的字符串\n"
   ]
  },
  {
   "cell_type": "code",
   "execution_count": 16,
   "metadata": {
    "pycharm": {
     "is_executing": false,
     "name": "#%%\n"
    }
   },
   "outputs": [
    {
     "name": "stdout",
     "output_type": "stream",
     "text": [
      "['python', 123, 5.23, 'jack', 70.2]\n",
      "python\n",
      "[123, 5.23]\n",
      "[5.23, 'jack', 70.2]\n",
      "[123, 'jack', 123, 'jack']\n",
      "['python', 123, 5.23, 'jack', 70.2, 123, 'jack']\n"
     ]
    }
   ],
   "source": [
    "# 认识list\n",
    "list = [ 'python', 123 , 5.23, 'jack', 70.2 ]\n",
    "small_list = [123, 'jack']\n",
    " \n",
    "print(list)               # 输出完整列表\n",
    "print(list[0])            # 输出列表的第一个元素\n",
    "print(list[1:3])          # 输出第二个至第三个元素 \n",
    "print(list[2:])           # 输出从第三个开始至列表末尾的所有元素\n",
    "print(small_list * 2)       # 输出列表两次\n",
    "print(list + small_list)    # 打印组合的列表\n"
   ]
  },
  {
   "cell_type": "code",
   "execution_count": 17,
   "metadata": {
    "pycharm": {
     "is_executing": false,
     "name": "#%%\n"
    }
   },
   "outputs": [
    {
     "name": "stdout",
     "output_type": "stream",
     "text": [
      "('python-master', 12345, 2.23, 'jack', 70.2)\n",
      "python-master\n",
      "(12345, 2.23)\n",
      "(2.23, 'jack', 70.2)\n",
      "(123, 'jack', 123, 'jack')\n",
      "('python-master', 12345, 2.23, 'jack', 70.2, 123, 'jack')\n"
     ]
    }
   ],
   "source": [
    "# 认识元组\n",
    "#!/usr/bin/python\n",
    "# -*- coding: UTF-8 -*-\n",
    " \n",
    "tuple = ( 'python-master', 12345 , 2.23, 'jack', 70.2 )\n",
    "small_tuple = (123, 'jack')\n",
    " \n",
    "print(tuple)               # 输出完整元组\n",
    "print(tuple[0])            # 输出元组的第一个元素\n",
    "print(tuple[1:3])          # 输出第二个至第四个（不包含）的元素 \n",
    "print(tuple[2:])         # 输出从第三个开始至列表末尾的所有元素\n",
    "print(small_tuple * 2)       # 输出元组两次\n",
    "print(tuple + small_tuple)   # 打印组合的元组"
   ]
  },
  {
   "cell_type": "code",
   "execution_count": null,
   "metadata": {
    "pycharm": {
     "name": "#%%\n"
    }
   },
   "outputs": [],
   "source": [
    "\n"
   ]
  }
 ],
 "metadata": {
  "kernelspec": {
   "display_name": "Python 3",
   "language": "python",
   "name": "python3"
  },
  "language_info": {
   "codemirror_mode": {
    "name": "ipython",
    "version": 3
   },
   "file_extension": ".py",
   "mimetype": "text/x-python",
   "name": "python",
   "nbconvert_exporter": "python",
   "pygments_lexer": "ipython3",
   "version": "3.7.3"
  },
  "pycharm": {
   "stem_cell": {
    "cell_type": "raw",
    "metadata": {
     "collapsed": false
    },
    "source": []
   }
  }
 },
 "nbformat": 4,
 "nbformat_minor": 1
}
