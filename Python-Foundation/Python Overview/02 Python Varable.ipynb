{
 "cells": [
  {
   "cell_type": "code",
   "execution_count": 35,
   "metadata": {
    "collapsed": true,
    "pycharm": {
     "is_executing": false
    }
   },
   "outputs": [
    {
     "name": "stdout",
     "text": [
      "100 <class 'int'>\n",
      "1000.0 <class 'float'>\n",
      "Python <class 'str'>\n"
     ],
     "output_type": "stream"
    }
   ],
   "source": [
    "# 认识数据类型\n",
    "#!/usr/bin/python\n",
    "# -*- coding: UTF-8 -*-\n",
    " \n",
    "counter = 100 # 赋值整型变量\n",
    "miles = 1000.0 # 浮点型\n",
    "name = \"Python\" # 字符串\n",
    " \n",
    "print(counter,type(counter))\n",
    "print(miles,type(miles))\n",
    "print(name,type(name))"
   ]
  },
  {
   "cell_type": "code",
   "execution_count": 5,
   "metadata": {
    "pycharm": {
     "is_executing": false,
     "name": "#%%\n"
    }
   },
   "outputs": [
    {
     "name": "stdout",
     "text": [
      "Hello World!\n",
      "H\n",
      "llo\n",
      "llo World!\n",
      "Hello World!Hello World!\n",
      "Hello World!TEST\n"
     ],
     "output_type": "stream"
    }
   ],
   "source": [
    "# 认识字符串\n",
    "#!/usr/bin/python\n",
    "# -*- coding: UTF-8 -*-\n",
    " \n",
    "str = 'Hello World!'\n",
    " \n",
    "print(str)           # 输出完整字符串\n",
    "print(str[0])        # 输出字符串中的第一个字符\n",
    "print(str[2:5])      # 输出字符串中第三个至第六个之间的字符串\n",
    "print(str[2:])       # 输出从第三个字符开始的字符串\n",
    "print(str * 2)       # 输出字符串两次\n",
    "print(str + \"TEST\")  # 输出连接的字符串\n"
   ]
  },
  {
   "cell_type": "code",
   "execution_count": 16,
   "metadata": {
    "pycharm": {
     "is_executing": false,
     "name": "#%%\n"
    }
   },
   "outputs": [
    {
     "name": "stdout",
     "output_type": "stream",
     "text": [
      "['python', 123, 5.23, 'jack', 70.2]\n",
      "python\n",
      "[123, 5.23]\n",
      "[5.23, 'jack', 70.2]\n",
      "[123, 'jack', 123, 'jack']\n",
      "['python', 123, 5.23, 'jack', 70.2, 123, 'jack']\n"
     ]
    }
   ],
   "source": [
    "# 认识list\n",
    "list = [ 'python', 123 , 5.23, 'jack', 70.2 ]\n",
    "small_list = [123, 'jack']\n",
    " \n",
    "print(list)               # 输出完整列表\n",
    "print(list[0])            # 输出列表的第一个元素\n",
    "print(list[1:3])          # 输出第二个至第三个元素 \n",
    "print(list[2:])           # 输出从第三个开始至列表末尾的所有元素\n",
    "print(small_list * 2)       # 输出列表两次\n",
    "print(list + small_list)    # 打印组合的列表\n"
   ]
  },
  {
   "cell_type": "code",
   "execution_count": 6,
   "metadata": {
    "pycharm": {
     "is_executing": false,
     "name": "#%%\n"
    }
   },
   "outputs": [
    {
     "name": "stdout",
     "text": [
      "('python-master', 12345, 2.23, 'jack', 70.2)\n",
      "python-master\n",
      "(12345, 2.23)\n",
      "(2.23, 'jack', 70.2)\n",
      "(123, 'jack', 123, 'jack')\n",
      "('python-master', 12345, 2.23, 'jack', 70.2, 123, 'jack')\n"
     ],
     "output_type": "stream"
    }
   ],
   "source": [
    "# 认识元组\n",
    "#!/usr/bin/python\n",
    "# -*- coding: UTF-8 -*-\n",
    " \n",
    "tuple = ( 'python-master', 12345 , 2.23, 'jack', 70.2 )\n",
    "small_tuple = (123, 'jack')\n",
    " \n",
    "print(tuple)               # 输出完整元组\n",
    "print(tuple[0])            # 输出元组的第一个元素\n",
    "print(tuple[1:3])          # 输出第二个至第四个（不包含）的元素 \n",
    "print(tuple[2:])         # 输出从第三个开始至列表末尾的所有元素\n",
    "print(small_tuple * 2)       # 输出元组两次\n",
    "print(tuple + small_tuple)   # 打印组合的元组"
   ]
  },
  {
   "cell_type": "code",
   "execution_count": 8,
   "metadata": {
    "pycharm": {
     "name": "#%%\n",
     "is_executing": false
    }
   },
   "outputs": [
    {
     "name": "stdout",
     "text": [
      "(12, 34.56, 'abc', 'xyz')\n"
     ],
     "output_type": "stream"
    }
   ],
   "source": [
    "# 修改元组\n",
    "#!/usr/bin/python3\n",
    " \n",
    "tup1 = (12, 34.56)\n",
    "tup2 = ('abc', 'xyz')\n",
    " \n",
    "# 以下修改元组元素操作是非法的。\n",
    "# tup1[0] = 100\n",
    " \n",
    "# 创建一个新的元组\n",
    "tup3 = tup1 + tup2\n",
    "print (tup3)\n"
   ]
  },
  {
   "cell_type": "code",
   "execution_count": 10,
   "outputs": [
    {
     "name": "stdout",
     "text": [
      "('Google', 'Runoob', 1997, 2000)\n",
      "删除后的元组 tup : \n"
     ],
     "output_type": "stream"
    },
    {
     "traceback": [
      "\u001b[1;31m---------------------------------------------------------------------------\u001b[0m",
      "\u001b[1;31mNameError\u001b[0m                                 Traceback (most recent call last)",
      "\u001b[1;32m<ipython-input-10-d6dc47fbb29a>\u001b[0m in \u001b[0;36m<module>\u001b[1;34m\u001b[0m\n\u001b[0;32m      7\u001b[0m \u001b[1;32mdel\u001b[0m \u001b[0mtup\u001b[0m\u001b[1;33m\u001b[0m\u001b[1;33m\u001b[0m\u001b[0m\n\u001b[0;32m      8\u001b[0m \u001b[0mprint\u001b[0m \u001b[1;33m(\u001b[0m\u001b[1;34m\"删除后的元组 tup : \"\u001b[0m\u001b[1;33m)\u001b[0m\u001b[1;33m\u001b[0m\u001b[1;33m\u001b[0m\u001b[0m\n\u001b[1;32m----> 9\u001b[1;33m \u001b[0mprint\u001b[0m \u001b[1;33m(\u001b[0m\u001b[0mtup\u001b[0m\u001b[1;33m)\u001b[0m\u001b[1;33m\u001b[0m\u001b[1;33m\u001b[0m\u001b[0m\n\u001b[0m\u001b[0;32m     10\u001b[0m \u001b[1;33m\u001b[0m\u001b[0m\n\u001b[0;32m     11\u001b[0m \u001b[1;33m\u001b[0m\u001b[0m\n",
      "\u001b[1;31mNameError\u001b[0m: name 'tup' is not defined"
     ],
     "ename": "NameError",
     "evalue": "name 'tup' is not defined",
     "output_type": "error"
    }
   ],
   "source": [
    "# 删除元组\n",
    "#!/usr/bin/python3\n",
    " \n",
    "tup = ('Google', 'Runoob', 1997, 2000)\n",
    " \n",
    "print (tup)\n",
    "del tup\n",
    "print (\"删除后的元组 tup : \")\n",
    "print (tup)\n",
    "\n"
   ],
   "metadata": {
    "collapsed": false,
    "pycharm": {
     "name": "#%%\n",
     "is_executing": false
    }
   }
  },
  {
   "cell_type": "code",
   "execution_count": 12,
   "outputs": [
    {
     "name": "stdout",
     "text": [
      "{'Alice': '2341', 'Beth': '9102', 'Cecil': '3258'}\n",
      "{'abc': 456}\n",
      "{'abc': 123, 98.6: 37}\n"
     ],
     "output_type": "stream"
    }
   ],
   "source": [
    "# 认识字典\n",
    "# d = {key1 : value1, key2 : value2 }\n",
    "\n",
    "dict = {'Alice': '2341', 'Beth': '9102', 'Cecil': '3258'}\n",
    "dict1 = { 'abc': 456 }\n",
    "dict2 = { 'abc': 123, 98.6: 37 }\n",
    "print(dict)\n",
    "print(dict1)\n",
    "print(dict2)"
   ],
   "metadata": {
    "collapsed": false,
    "pycharm": {
     "name": "#%%\n",
     "is_executing": false
    }
   }
  },
  {
   "cell_type": "code",
   "execution_count": 15,
   "outputs": [
    {
     "name": "stdout",
     "text": [
      "dict['Name']:  pythonboy\n",
      "dict['Age']:  17\n"
     ],
     "output_type": "stream"
    }
   ],
   "source": [
    "#!/usr/bin/python3\n",
    "#访问字典\n",
    " \n",
    "dict = {'Name': 'pythonboy', 'Age': 17, 'Class': 'First'}\n",
    " \n",
    "print (\"dict['Name']: \", dict['Name'])\n",
    "print (\"dict['Age']: \", dict['Age'])\n"
   ],
   "metadata": {
    "collapsed": false,
    "pycharm": {
     "name": "#%%\n",
     "is_executing": false
    }
   }
  },
  {
   "cell_type": "code",
   "execution_count": 16,
   "outputs": [
    {
     "name": "stdout",
     "text": [
      "dict['Age']:  8\n",
      "dict['School']:  LA\n"
     ],
     "output_type": "stream"
    }
   ],
   "source": [
    "# 修改字典\n",
    "#!/usr/bin/python3\n",
    "dict = {'Name': 'Python', 'Age': 8, 'Class': 'First', 'School': \"LA\"}\n",
    "print (\"dict['Age']: \", dict['Age'])\n",
    "print (\"dict['School']: \", dict['School'])\n",
    "\n",
    "\n"
   ],
   "metadata": {
    "collapsed": false,
    "pycharm": {
     "name": "#%%\n",
     "is_executing": false
    }
   }
  },
  {
   "cell_type": "code",
   "execution_count": 21,
   "outputs": [
    {
     "name": "stdout",
     "text": [
      "{'Name': 'Pyhton', 'Age': 7, 'Class': 'First'}\n"
     ],
     "output_type": "stream"
    },
    {
     "traceback": [
      "\u001b[1;31m---------------------------------------------------------------------------\u001b[0m",
      "\u001b[1;31mTypeError\u001b[0m                                 Traceback (most recent call last)",
      "\u001b[1;32m<ipython-input-21-c353c8819ff6>\u001b[0m in \u001b[0;36m<module>\u001b[1;34m\u001b[0m\n\u001b[0;32m      6\u001b[0m \u001b[0mprint\u001b[0m \u001b[1;33m(\u001b[0m\u001b[0mdict4\u001b[0m\u001b[1;33m)\u001b[0m\u001b[1;33m\u001b[0m\u001b[1;33m\u001b[0m\u001b[0m\n\u001b[0;32m      7\u001b[0m \u001b[0mpop_obj\u001b[0m \u001b[1;33m=\u001b[0m \u001b[0mdict4\u001b[0m\u001b[1;33m.\u001b[0m\u001b[0mpop\u001b[0m\u001b[1;33m(\u001b[0m\u001b[1;34m'Name'\u001b[0m\u001b[1;33m)\u001b[0m \u001b[1;31m# 删除键 'Name'\u001b[0m\u001b[1;33m\u001b[0m\u001b[1;33m\u001b[0m\u001b[0m\n\u001b[1;32m----> 8\u001b[1;33m \u001b[1;32mdel\u001b[0m \u001b[0mdict\u001b[0m\u001b[1;33m[\u001b[0m\u001b[1;34m'Age'\u001b[0m\u001b[1;33m]\u001b[0m         \u001b[1;31m# 删除'Age'条目\u001b[0m\u001b[1;33m\u001b[0m\u001b[1;33m\u001b[0m\u001b[0m\n\u001b[0m\u001b[0;32m      9\u001b[0m \u001b[0mpop_obj1\u001b[0m \u001b[1;33m=\u001b[0m \u001b[0mdict4\u001b[0m\u001b[1;33m.\u001b[0m\u001b[0mpopitem\u001b[0m\u001b[1;33m(\u001b[0m\u001b[1;33m)\u001b[0m \u001b[1;31m# 随机返回并删除一个键值对\u001b[0m\u001b[1;33m\u001b[0m\u001b[1;33m\u001b[0m\u001b[0m\n\u001b[0;32m     10\u001b[0m \u001b[0mprint\u001b[0m \u001b[1;33m(\u001b[0m\u001b[0mdict4\u001b[0m\u001b[1;33m)\u001b[0m\u001b[1;33m\u001b[0m\u001b[1;33m\u001b[0m\u001b[0m\n",
      "\u001b[1;31mTypeError\u001b[0m: 'type' object does not support item deletion"
     ],
     "ename": "TypeError",
     "evalue": "'type' object does not support item deletion",
     "output_type": "error"
    }
   ],
   "source": [
    "# 删除字典元素\n",
    "#!/usr/bin/python3\n",
    " \n",
    "dict4 = {'Name': 'Pyhton', 'Age': 7, 'Class': 'First'}\n",
    "\n",
    "print (dict4) \n",
    "pop_obj = dict4.pop('Name') # 删除键 'Name'\n",
    "del dict['Age']         # 删除'Age'条目\n",
    "pop_obj1 = dict4.popitem() # 随机返回并删除一个键值对\n",
    "print (dict4) \n",
    "dict4.clear()     # 清空字典\n"
   ],
   "metadata": {
    "collapsed": false,
    "pycharm": {
     "name": "#%%\n",
     "is_executing": false
    }
   }
  },
  {
   "cell_type": "code",
   "execution_count": 30,
   "outputs": [
    {
     "name": "stdout",
     "text": [
      "dict1_a的长度是：  3\n",
      "{'Name': 'Pyhton', 'Age': 7, 'Class': 'First'}\n"
     ],
     "output_type": "stream"
    }
   ],
   "source": [
    "# 其他字典方法\n",
    "dict_a = {'Name': 'Pyhton', 'Age': 7, 'Class': 'First'}\n",
    "dict_b = {'Place': 'LA', 'School': 'MIT', 'ID': '123456789'}\n",
    "\n",
    "print(\"dict1_a的长度是： \", len(dict_a)) # 计算字典元素个数，即键的总数。\n",
    "type(dict_a) # 返回输入的变量类型，如果变量是字典就返回字典类型。\\\n",
    "\n",
    "dict_new = dict_a.copy()\n",
    "print(dict_new)\n",
    "\n",
    "\n"
   ],
   "metadata": {
    "collapsed": false,
    "pycharm": {
     "name": "#%%\n",
     "is_executing": false
    }
   }
  }
 ],
 "metadata": {
  "kernelspec": {
   "display_name": "Python 3",
   "language": "python",
   "name": "python3"
  },
  "language_info": {
   "codemirror_mode": {
    "name": "ipython",
    "version": 3
   },
   "file_extension": ".py",
   "mimetype": "text/x-python",
   "name": "python",
   "nbconvert_exporter": "python",
   "pygments_lexer": "ipython3",
   "version": "3.7.3"
  },
  "pycharm": {
   "stem_cell": {
    "cell_type": "raw",
    "source": [],
    "metadata": {
     "collapsed": false
    }
   }
  }
 },
 "nbformat": 4,
 "nbformat_minor": 1
}