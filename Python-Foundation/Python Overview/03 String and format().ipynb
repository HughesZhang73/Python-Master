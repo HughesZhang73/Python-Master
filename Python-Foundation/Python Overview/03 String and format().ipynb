{
 "cells": [
  {
   "cell_type": "code",
   "execution_count": 3,
   "metadata": {
    "collapsed": true,
    "pycharm": {
     "is_executing": false
    }
   },
   "outputs": [
    {
     "name": "stdout",
     "text": [
      "hello\n",
      "welcom to\n",
      "Python-Master-Road\n"
     ],
     "output_type": "stream"
    }
   ],
   "source": [
    "# '\\n' use case\n",
    "print(\"hello\\nwelcom to\\nPython-Master-Road\")"
   ]
  },
  {
   "cell_type": "code",
   "execution_count": 4,
   "outputs": [
    {
     "name": "stdout",
     "text": [
      "11.5\n",
      "269\n"
     ],
     "output_type": "stream"
    }
   ],
   "source": [
    "# 计算m、n两个数的平均值和m的平方乘以n的平方\n",
    "# Calculate the average of the two numbers m and n and the square of m times the square of n\n",
    "\n",
    "m = 10\n",
    "n = 5\n",
    "\n",
    "# 变量m的值加3，n的值加5\n",
    "m += 3\n",
    "n += 5\n",
    "\n",
    "# 求m和n的平均值\n",
    "averageResult = (m+n)/2\n",
    "\n",
    "# 求m的平方乘以n的平方\n",
    "productResult = m ** 2 + n ** 2\n",
    "\n",
    "# 根据效果图进行输出averageResult、productResult\n",
    "print(averageResult)\n",
    "print(productResult)"
   ],
   "metadata": {
    "collapsed": false,
    "pycharm": {
     "name": "#%%\n",
     "is_executing": false
    }
   }
  },
  {
   "cell_type": "code",
   "execution_count": 6,
   "outputs": [
    {
     "name": "stdout",
     "text": [
      "1234567890\n",
      "<class 'int'>\n"
     ],
     "output_type": "stream"
    }
   ],
   "source": [
    "# 将input函数中输入的身份证号转化为整型\n",
    "\n",
    "name=input(\"请输入您的姓名：\")\n",
    "# 请用变量ID接收输入的身份证号\n",
    "ID = input(\"身份证号\")\n",
    "# 将ID转换成整型并赋值给id\n",
    "id = int(ID)\n",
    "# 向控制台输出id的值\n",
    "print(id)\n",
    "print(type(id))"
   ],
   "metadata": {
    "collapsed": false,
    "pycharm": {
     "name": "#%%\n",
     "is_executing": false
    }
   }
  },
  {
   "cell_type": "code",
   "execution_count": 7,
   "outputs": [
    {
     "name": "stdout",
     "text": [
      "2020.07.07 Welcom to Python Master Road URL is https://github.com/HughesZhang73/Python-Master\n"
     ],
     "output_type": "stream"
    }
   ],
   "source": [
    "# 日期字符串拼接\n",
    "\n",
    "#定义变量date，接收input函数—请输入日期：\n",
    "date = input(\"请输入日期\")\n",
    "str1=\" Welcom to Python Master Road\"\n",
    "str2=\" URL is https://github.com/HughesZhang73/Python-Master\"\n",
    "#定义变量str3拼接date、str1、str2\n",
    "str3 = date + str1 + str2\n",
    "print(str3)"
   ],
   "metadata": {
    "collapsed": false,
    "pycharm": {
     "name": "#%%\n",
     "is_executing": false
    }
   }
  },
  {
   "cell_type": "code",
   "execution_count": 10,
   "outputs": [
    {
     "data": {
      "text/plain": "'hello world'"
     },
     "metadata": {},
     "output_type": "execute_result",
     "execution_count": 10
    }
   ],
   "source": [
    "# 字符串格式化输出\n",
    "\n",
    "\"{} {}\".format(\"hello\", \"world\")    # 不设置指定位置，按默认顺序\n",
    "\n"
   ],
   "metadata": {
    "collapsed": false,
    "pycharm": {
     "name": "#%%\n",
     "is_executing": false
    }
   }
  },
  {
   "cell_type": "code",
   "execution_count": 11,
   "outputs": [
    {
     "data": {
      "text/plain": "'hello world'"
     },
     "metadata": {},
     "output_type": "execute_result",
     "execution_count": 11
    }
   ],
   "source": [
    "\"{0} {1}\".format(\"hello\", \"world\")  # 设置指定位置\n"
   ],
   "metadata": {
    "collapsed": false,
    "pycharm": {
     "name": "#%%\n",
     "is_executing": false
    }
   }
  },
  {
   "cell_type": "code",
   "execution_count": 12,
   "outputs": [
    {
     "data": {
      "text/plain": "'world hello world'"
     },
     "metadata": {},
     "output_type": "execute_result",
     "execution_count": 12
    }
   ],
   "source": [
    "\"{1} {0} {1}\".format(\"hello\", \"world\")  # 设置指定位置"
   ],
   "metadata": {
    "collapsed": false,
    "pycharm": {
     "name": "#%%\n",
     "is_executing": false
    }
   }
  },
  {
   "cell_type": "code",
   "execution_count": 13,
   "outputs": [
    {
     "name": "stdout",
     "text": [
      "网站名：Python_Master, 地址 https://github.com/HughesZhang73/Python-Master\n",
      "网站名：Python_Master, 地址 https://github.com/HughesZhang73/Python-Master\n",
      "网站名：Python_Master, 地址 https://github.com/HughesZhang73/Python-Master\n"
     ],
     "output_type": "stream"
    }
   ],
   "source": [
    "# 字符串格式化实例\n",
    "\n",
    "#!/usr/bin/python\n",
    "# -*- coding: UTF-8 -*-\n",
    " \n",
    "print(\"网站名：{name}, 地址 {url}\".format(name=\"Python_Master\", url=\"https://github.com/HughesZhang73/Python-Master\"))\n",
    " \n",
    "# 通过字典设置参数\n",
    "site = {\"name\": \"Python_Master\", \"url\": \"https://github.com/HughesZhang73/Python-Master\"}\n",
    "print(\"网站名：{name}, 地址 {url}\".format(**site))\n",
    " \n",
    "# 通过列表索引设置参数\n",
    "my_list = ['Python_Master', 'https://github.com/HughesZhang73/Python-Master']\n",
    "print(\"网站名：{0[0]}, 地址 {0[1]}\".format(my_list))  # \"0\" 是必须的\n",
    "\n"
   ],
   "metadata": {
    "collapsed": false,
    "pycharm": {
     "name": "#%%\n",
     "is_executing": false
    }
   }
  },
  {
   "cell_type": "code",
   "execution_count": 14,
   "outputs": [
    {
     "name": "stdout",
     "text": [
      "value 为: 6\n"
     ],
     "output_type": "stream"
    }
   ],
   "source": [
    "# 向 str.format() 传入对象\n",
    "\n",
    "#!/usr/bin/python\n",
    "# -*- coding: UTF-8 -*-\n",
    " \n",
    "class AssignValue(object):\n",
    "    def __init__(self, value):\n",
    "        self.value = value\n",
    "my_value = AssignValue(6)\n",
    "print('value 为: {0.value}'.format(my_value))  # \"0\" 是可选的\n"
   ],
   "metadata": {
    "collapsed": false,
    "pycharm": {
     "name": "#%%\n",
     "is_executing": false
    }
   }
  },
  {
   "cell_type": "code",
   "execution_count": 1,
   "outputs": [
    {
     "name": "stdout",
     "text": [
      "3.14\n"
     ],
     "output_type": "stream"
    }
   ],
   "source": [
    "#  str.format() 格式化数字\n",
    "print(\"{:.2f}\".format(3.1415926));\n",
    "\n"
   ],
   "metadata": {
    "collapsed": false,
    "pycharm": {
     "name": "#%%\n",
     "is_executing": false
    }
   }
  },
  {
   "cell_type": "code",
   "execution_count": 16,
   "outputs": [
    {
     "name": "stdout",
     "text": [
      "python-master 对应的位置是 {0}\n"
     ],
     "output_type": "stream"
    }
   ],
   "source": [
    "print (\"{} 对应的位置是 {{0}}\".format(\"python-master\"))\n",
    "\n"
   ],
   "metadata": {
    "collapsed": false,
    "pycharm": {
     "name": "#%%\n",
     "is_executing": false
    }
   }
  },
  {
   "cell_type": "code",
   "execution_count": 2,
   "outputs": [
    {
     "name": "stdout",
     "text": [
      "hello wprld\n"
     ],
     "output_type": "stream"
    }
   ],
   "source": [
    "print(\"hello world\")\n",
    "\n"
   ],
   "metadata": {
    "collapsed": false,
    "pycharm": {
     "name": "#%%\n",
     "is_executing": false
    }
   }
  }
 ],
 "metadata": {
  "kernelspec": {
   "display_name": "Python 3",
   "language": "python",
   "name": "python3"
  },
  "language_info": {
   "codemirror_mode": {
    "name": "ipython",
    "version": 2
   },
   "file_extension": ".py",
   "mimetype": "text/x-python",
   "name": "python",
   "nbconvert_exporter": "python",
   "pygments_lexer": "ipython2",
   "version": "2.7.6"
  },
  "pycharm": {
   "stem_cell": {
    "cell_type": "raw",
    "source": [],
    "metadata": {
     "collapsed": false
    }
   }
  }
 },
 "nbformat": 4,
 "nbformat_minor": 0
}