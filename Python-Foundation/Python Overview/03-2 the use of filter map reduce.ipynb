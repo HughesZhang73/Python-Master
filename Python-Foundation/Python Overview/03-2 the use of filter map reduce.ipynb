{
 "cells": [
  {
   "cell_type": "code",
   "execution_count": 5,
   "metadata": {
    "collapsed": true,
    "pycharm": {
     "is_executing": false,
     "name": "#%%\n"
    }
   },
   "outputs": [
    {
     "name": "stdout",
     "text": [
      "[1, 3, 5, 7]\n"
     ],
     "output_type": "stream"
    }
   ],
   "source": [
    "# lambda function\n",
    "# 用来创建内嵌简单的匿名函数\n",
    "# filter函数的使用: 返回一个列表，其中包含对执行函数时结果为真的所有元素\n",
    "def usr_filter():\n",
    "    ll = [1, 2, 3, 4, 5, 6, 7]\n",
    "    rest = filter(lambda n: n % 2 != 0, ll)\n",
    "    print(list(rest))\n",
    "\n",
    "usr_filter()\n"
   ]
  },
  {
   "cell_type": "code",
   "execution_count": 8,
   "outputs": [
    {
     "name": "stdout",
     "text": [
      "[1, 4, 9, 16, 25, 36, 49]\n"
     ],
     "output_type": "stream"
    }
   ],
   "source": [
    "# map 函数创建一个列表，其中包含对指定序列包含的项 执行指定的函数 返回的值\n",
    "\n",
    "def usr_map():\n",
    "    ll = [1, 2, 3, 4, 5, 6, 7]\n",
    "    rest = map(lambda n: n * n, ll)\n",
    "    print(list(rest))\n",
    "\n",
    "usr_map()"
   ],
   "metadata": {
    "collapsed": false,
    "pycharm": {
     "name": "#%%\n",
     "is_executing": false
    }
   }
  },
  {
   "cell_type": "code",
   "execution_count": 12,
   "outputs": [
    {
     "name": "stdout",
     "text": [
      "28\n"
     ],
     "output_type": "stream"
    }
   ],
   "source": [
    "# reduce 函数使用:\n",
    "'''\n",
    "使用指定的函数将序列的前两个元素合二为一，\n",
    "再将结果与第三个元素合二为一\n",
    "以此类推，\n",
    "直到处理完一个序列并得到一个结果\n",
    "'''\n",
    "from functools import reduce\n",
    "def func(m, n):\n",
    "    return m + n\n",
    "\n",
    "def use_reduce():\n",
    "    ll = [1, 2, 3, 4, 5, 6, 7]\n",
    "    return reduce(func, ll)\n",
    "\n",
    "def use_reduce_lambda():\n",
    "    ll = [1, 2, 3, 4, 5, 6, 7]\n",
    "    return reduce(lambda m, n: m + n, ll)\n",
    "\n",
    "print(use_reduce())"
   ],
   "metadata": {
    "collapsed": false,
    "pycharm": {
     "name": "#%%\n",
     "is_executing": false
    }
   }
  }
 ],
 "metadata": {
  "kernelspec": {
   "display_name": "Python 3",
   "language": "python",
   "name": "python3"
  },
  "language_info": {
   "codemirror_mode": {
    "name": "ipython",
    "version": 2
   },
   "file_extension": ".py",
   "mimetype": "text/x-python",
   "name": "python",
   "nbconvert_exporter": "python",
   "pygments_lexer": "ipython2",
   "version": "2.7.6"
  },
  "pycharm": {
   "stem_cell": {
    "cell_type": "raw",
    "source": [],
    "metadata": {
     "collapsed": false
    }
   }
  }
 },
 "nbformat": 4,
 "nbformat_minor": 0
}